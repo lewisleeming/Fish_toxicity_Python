{
 "cells": [
  {
   "cell_type": "markdown",
   "metadata": {},
   "source": [
    "# Data Science Individual Project"
   ]
  },
  {
   "cell_type": "markdown",
   "metadata": {},
   "source": [
    "Part 1a: Exploratory data analysis"
   ]
  },
  {
   "cell_type": "code",
   "execution_count": 393,
   "metadata": {},
   "outputs": [],
   "source": [
    "#All imports for future functions\n",
    "import numpy as np\n",
    "import pandas as pd\n",
    "import functools\n",
    "from scipy import optimize\n",
    "\n",
    "%matplotlib inline\n",
    "import matplotlib.pyplot as plt\n",
    "plt.style.use('fivethirtyeight')"
   ]
  },
  {
   "cell_type": "code",
   "execution_count": 394,
   "metadata": {},
   "outputs": [
    {
     "data": {
      "text/html": [
       "<div>\n",
       "<style scoped>\n",
       "    .dataframe tbody tr th:only-of-type {\n",
       "        vertical-align: middle;\n",
       "    }\n",
       "\n",
       "    .dataframe tbody tr th {\n",
       "        vertical-align: top;\n",
       "    }\n",
       "\n",
       "    .dataframe thead th {\n",
       "        text-align: right;\n",
       "    }\n",
       "</style>\n",
       "<table border=\"1\" class=\"dataframe\">\n",
       "  <thead>\n",
       "    <tr style=\"text-align: right;\">\n",
       "      <th></th>\n",
       "      <th>X1-CIC0</th>\n",
       "      <th>X2-SM1_Dz(Z)</th>\n",
       "      <th>X3-GATS1i</th>\n",
       "      <th>X4-NdsCH</th>\n",
       "      <th>X5-NdssC</th>\n",
       "      <th>X6-MLOGP</th>\n",
       "      <th>Y-LC50</th>\n",
       "    </tr>\n",
       "  </thead>\n",
       "  <tbody>\n",
       "    <tr>\n",
       "      <th>0</th>\n",
       "      <td>3.260</td>\n",
       "      <td>0.829</td>\n",
       "      <td>1.676</td>\n",
       "      <td>0</td>\n",
       "      <td>1</td>\n",
       "      <td>1.453</td>\n",
       "      <td>3.770</td>\n",
       "    </tr>\n",
       "    <tr>\n",
       "      <th>1</th>\n",
       "      <td>2.189</td>\n",
       "      <td>0.580</td>\n",
       "      <td>0.863</td>\n",
       "      <td>0</td>\n",
       "      <td>0</td>\n",
       "      <td>1.348</td>\n",
       "      <td>3.115</td>\n",
       "    </tr>\n",
       "    <tr>\n",
       "      <th>2</th>\n",
       "      <td>2.125</td>\n",
       "      <td>0.638</td>\n",
       "      <td>0.831</td>\n",
       "      <td>0</td>\n",
       "      <td>0</td>\n",
       "      <td>1.348</td>\n",
       "      <td>3.531</td>\n",
       "    </tr>\n",
       "    <tr>\n",
       "      <th>3</th>\n",
       "      <td>3.027</td>\n",
       "      <td>0.331</td>\n",
       "      <td>1.472</td>\n",
       "      <td>1</td>\n",
       "      <td>0</td>\n",
       "      <td>1.807</td>\n",
       "      <td>3.510</td>\n",
       "    </tr>\n",
       "    <tr>\n",
       "      <th>4</th>\n",
       "      <td>2.094</td>\n",
       "      <td>0.827</td>\n",
       "      <td>0.860</td>\n",
       "      <td>0</td>\n",
       "      <td>0</td>\n",
       "      <td>1.886</td>\n",
       "      <td>5.390</td>\n",
       "    </tr>\n",
       "    <tr>\n",
       "      <th>...</th>\n",
       "      <td>...</td>\n",
       "      <td>...</td>\n",
       "      <td>...</td>\n",
       "      <td>...</td>\n",
       "      <td>...</td>\n",
       "      <td>...</td>\n",
       "      <td>...</td>\n",
       "    </tr>\n",
       "    <tr>\n",
       "      <th>903</th>\n",
       "      <td>2.801</td>\n",
       "      <td>0.728</td>\n",
       "      <td>2.226</td>\n",
       "      <td>0</td>\n",
       "      <td>2</td>\n",
       "      <td>0.736</td>\n",
       "      <td>3.109</td>\n",
       "    </tr>\n",
       "    <tr>\n",
       "      <th>904</th>\n",
       "      <td>3.652</td>\n",
       "      <td>0.872</td>\n",
       "      <td>0.867</td>\n",
       "      <td>2</td>\n",
       "      <td>3</td>\n",
       "      <td>3.983</td>\n",
       "      <td>4.040</td>\n",
       "    </tr>\n",
       "    <tr>\n",
       "      <th>905</th>\n",
       "      <td>3.763</td>\n",
       "      <td>0.916</td>\n",
       "      <td>0.878</td>\n",
       "      <td>0</td>\n",
       "      <td>6</td>\n",
       "      <td>2.918</td>\n",
       "      <td>4.818</td>\n",
       "    </tr>\n",
       "    <tr>\n",
       "      <th>906</th>\n",
       "      <td>2.831</td>\n",
       "      <td>1.393</td>\n",
       "      <td>1.077</td>\n",
       "      <td>0</td>\n",
       "      <td>1</td>\n",
       "      <td>0.906</td>\n",
       "      <td>5.317</td>\n",
       "    </tr>\n",
       "    <tr>\n",
       "      <th>907</th>\n",
       "      <td>4.057</td>\n",
       "      <td>1.032</td>\n",
       "      <td>1.183</td>\n",
       "      <td>1</td>\n",
       "      <td>3</td>\n",
       "      <td>4.754</td>\n",
       "      <td>8.201</td>\n",
       "    </tr>\n",
       "  </tbody>\n",
       "</table>\n",
       "<p>908 rows × 7 columns</p>\n",
       "</div>"
      ],
      "text/plain": [
       "     X1-CIC0  X2-SM1_Dz(Z)  X3-GATS1i  X4-NdsCH  X5-NdssC  X6-MLOGP  Y-LC50\n",
       "0      3.260         0.829      1.676         0         1     1.453   3.770\n",
       "1      2.189         0.580      0.863         0         0     1.348   3.115\n",
       "2      2.125         0.638      0.831         0         0     1.348   3.531\n",
       "3      3.027         0.331      1.472         1         0     1.807   3.510\n",
       "4      2.094         0.827      0.860         0         0     1.886   5.390\n",
       "..       ...           ...        ...       ...       ...       ...     ...\n",
       "903    2.801         0.728      2.226         0         2     0.736   3.109\n",
       "904    3.652         0.872      0.867         2         3     3.983   4.040\n",
       "905    3.763         0.916      0.878         0         6     2.918   4.818\n",
       "906    2.831         1.393      1.077         0         1     0.906   5.317\n",
       "907    4.057         1.032      1.183         1         3     4.754   8.201\n",
       "\n",
       "[908 rows x 7 columns]"
      ]
     },
     "execution_count": 394,
     "metadata": {},
     "output_type": "execute_result"
    }
   ],
   "source": [
    "# Puts data into Dataframe\n",
    "fish_toxicity = pd.read_csv('qsar_fish_toxicity.csv')\n",
    "fish_toxicity"
   ]
  },
  {
   "cell_type": "markdown",
   "metadata": {},
   "source": [
    "# Part 1a: Exploratory data analysis"
   ]
  },
  {
   "cell_type": "code",
   "execution_count": 395,
   "metadata": {},
   "outputs": [
    {
     "data": {
      "text/plain": [
       "X1-CIC0         False\n",
       "X2-SM1_Dz(Z)    False\n",
       "X3-GATS1i       False\n",
       "X4-NdsCH        False\n",
       "X5-NdssC        False\n",
       "X6-MLOGP        False\n",
       "Y-LC50          False\n",
       "dtype: bool"
      ]
     },
     "execution_count": 395,
     "metadata": {},
     "output_type": "execute_result"
    }
   ],
   "source": [
    "#checks whether any values are missing for each x value\n",
    "np.isnan(fish_toxicity).any()\n",
    "\n",
    "# fish_toxicity.isnull() - checks all values to see if null\n",
    "#fish_toxicity.dropna() - method to drop rows with missing values I think"
   ]
  },
  {
   "cell_type": "code",
   "execution_count": 396,
   "metadata": {},
   "outputs": [
    {
     "data": {
      "text/html": [
       "<div>\n",
       "<style scoped>\n",
       "    .dataframe tbody tr th:only-of-type {\n",
       "        vertical-align: middle;\n",
       "    }\n",
       "\n",
       "    .dataframe tbody tr th {\n",
       "        vertical-align: top;\n",
       "    }\n",
       "\n",
       "    .dataframe thead th {\n",
       "        text-align: right;\n",
       "    }\n",
       "</style>\n",
       "<table border=\"1\" class=\"dataframe\">\n",
       "  <thead>\n",
       "    <tr style=\"text-align: right;\">\n",
       "      <th></th>\n",
       "      <th>X1-CIC0</th>\n",
       "      <th>X2-SM1_Dz(Z)</th>\n",
       "      <th>X3-GATS1i</th>\n",
       "      <th>X4-NdsCH</th>\n",
       "      <th>X5-NdssC</th>\n",
       "      <th>X6-MLOGP</th>\n",
       "      <th>Y-LC50</th>\n",
       "    </tr>\n",
       "  </thead>\n",
       "  <tbody>\n",
       "    <tr>\n",
       "      <th>0</th>\n",
       "      <td>3.260</td>\n",
       "      <td>0.829</td>\n",
       "      <td>1.676</td>\n",
       "      <td>0</td>\n",
       "      <td>1</td>\n",
       "      <td>1.453</td>\n",
       "      <td>3.770</td>\n",
       "    </tr>\n",
       "    <tr>\n",
       "      <th>1</th>\n",
       "      <td>2.189</td>\n",
       "      <td>0.580</td>\n",
       "      <td>0.863</td>\n",
       "      <td>0</td>\n",
       "      <td>0</td>\n",
       "      <td>1.348</td>\n",
       "      <td>3.115</td>\n",
       "    </tr>\n",
       "    <tr>\n",
       "      <th>2</th>\n",
       "      <td>2.125</td>\n",
       "      <td>0.638</td>\n",
       "      <td>0.831</td>\n",
       "      <td>0</td>\n",
       "      <td>0</td>\n",
       "      <td>1.348</td>\n",
       "      <td>3.531</td>\n",
       "    </tr>\n",
       "    <tr>\n",
       "      <th>3</th>\n",
       "      <td>3.027</td>\n",
       "      <td>0.331</td>\n",
       "      <td>1.472</td>\n",
       "      <td>1</td>\n",
       "      <td>0</td>\n",
       "      <td>1.807</td>\n",
       "      <td>3.510</td>\n",
       "    </tr>\n",
       "    <tr>\n",
       "      <th>4</th>\n",
       "      <td>2.094</td>\n",
       "      <td>0.827</td>\n",
       "      <td>0.860</td>\n",
       "      <td>0</td>\n",
       "      <td>0</td>\n",
       "      <td>1.886</td>\n",
       "      <td>5.390</td>\n",
       "    </tr>\n",
       "  </tbody>\n",
       "</table>\n",
       "</div>"
      ],
      "text/plain": [
       "   X1-CIC0  X2-SM1_Dz(Z)  X3-GATS1i  X4-NdsCH  X5-NdssC  X6-MLOGP  Y-LC50\n",
       "0    3.260         0.829      1.676         0         1     1.453   3.770\n",
       "1    2.189         0.580      0.863         0         0     1.348   3.115\n",
       "2    2.125         0.638      0.831         0         0     1.348   3.531\n",
       "3    3.027         0.331      1.472         1         0     1.807   3.510\n",
       "4    2.094         0.827      0.860         0         0     1.886   5.390"
      ]
     },
     "execution_count": 396,
     "metadata": {},
     "output_type": "execute_result"
    }
   ],
   "source": [
    "#print 5 rows of table\n",
    "fish_toxicity.head()"
   ]
  },
  {
   "cell_type": "code",
   "execution_count": 397,
   "metadata": {},
   "outputs": [
    {
     "data": {
      "text/plain": [
       "908"
      ]
     },
     "execution_count": 397,
     "metadata": {},
     "output_type": "execute_result"
    }
   ],
   "source": [
    "# number of rows\n",
    "len(fish_toxicity)"
   ]
  },
  {
   "cell_type": "code",
   "execution_count": 398,
   "metadata": {},
   "outputs": [
    {
     "data": {
      "text/plain": [
       "7"
      ]
     },
     "execution_count": 398,
     "metadata": {},
     "output_type": "execute_result"
    }
   ],
   "source": [
    "# number of columns\n",
    "len(fish_toxicity.columns)"
   ]
  },
  {
   "cell_type": "code",
   "execution_count": 399,
   "metadata": {},
   "outputs": [
    {
     "data": {
      "text/plain": [
       "<AxesSubplot:xlabel='X1-CIC0', ylabel='Y-LC50'>"
      ]
     },
     "execution_count": 399,
     "metadata": {},
     "output_type": "execute_result"
    },
    {
     "data": {
      "image/png": "[encoded data removed]",
      "text/plain": [
       "<Figure size 432x288 with 1 Axes>"
      ]
     },
     "metadata": {},
     "output_type": "display_data"
    }
   ],
   "source": [
    "# dependant variable and independant variable\n",
    "fish_toxicity.plot.scatter('X1-CIC0','Y-LC50', color='DarkBlue')"
   ]
  },
  {
   "cell_type": "code",
   "execution_count": 400,
   "metadata": {},
   "outputs": [
    {
     "data": {
      "text/plain": [
       "<AxesSubplot:xlabel='X1-CIC0', ylabel='Y-LC50'>"
      ]
     },
     "execution_count": 400,
     "metadata": {},
     "output_type": "execute_result"
    },
    {
     "data": {
      "image/png": "[encoded data removed]",
      "text/plain": [
       "<Figure size 432x288 with 1 Axes>"
      ]
     },
     "metadata": {},
     "output_type": "display_data"
    }
   ],
   "source": [
    "# Remove outliers based on my own judgements\n",
    "fish_toxicity = fish_toxicity[(fish_toxicity['X1-CIC0'] > 0.7) & (fish_toxicity['X1-CIC0'] <5.5)]\n",
    "fish_toxicity.plot.scatter('X1-CIC0','Y-LC50', color='DarkBlue')"
   ]
  },
  {
   "cell_type": "code",
   "execution_count": 401,
   "metadata": {},
   "outputs": [
    {
     "data": {
      "text/plain": [
       "<AxesSubplot:xlabel='X2-SM1_Dz(Z)', ylabel='X6-MLOGP'>"
      ]
     },
     "execution_count": 401,
     "metadata": {},
     "output_type": "execute_result"
    },
    {
     "data": {
      "image/png": "[encoded data removed]",
      "text/plain": [
       "<Figure size 432x288 with 1 Axes>"
      ]
     },
     "metadata": {},
     "output_type": "display_data"
    }
   ],
   "source": [
    "# independant variable and independant variable\n",
    "fish_toxicity.plot.scatter('X2-SM1_Dz(Z)','X6-MLOGP', color='DarkBlue')"
   ]
  },
  {
   "cell_type": "code",
   "execution_count": 402,
   "metadata": {},
   "outputs": [
    {
     "data": {
      "text/plain": [
       "<AxesSubplot:xlabel='X1-CIC0', ylabel='Y-LC50'>"
      ]
     },
     "execution_count": 402,
     "metadata": {},
     "output_type": "execute_result"
    },
    {
     "data": {
      "image/png": "[encoded data removed]",
      "text/plain": [
       "<Figure size 432x288 with 1 Axes>"
      ]
     },
     "metadata": {},
     "output_type": "display_data"
    }
   ],
   "source": [
    "fish_toxicity.plot.scatter('X1-CIC0','Y-LC50', color='DarkBlue')"
   ]
  },
  {
   "cell_type": "markdown",
   "metadata": {},
   "source": [
    "# Part1b: Standardisation and correlation"
   ]
  },
  {
   "cell_type": "code",
   "execution_count": 403,
   "metadata": {},
   "outputs": [
    {
     "data": {
      "text/plain": [
       "0.3008483525934349"
      ]
     },
     "execution_count": 403,
     "metadata": {},
     "output_type": "execute_result"
    }
   ],
   "source": [
    "#converts value given into standard units\n",
    "def standardise(x):\n",
    "    return (x - np.mean(x)) / np.std(x)\n",
    "\n",
    "#Calculates correlation value\n",
    "def correlation_cols(x_cols, y_cols):\n",
    "    #first converts to standard units \n",
    "    x_su = standardise(x_cols)\n",
    "    y_su = standardise(y_cols)\n",
    "    return np.mean(x_su * y_su)\n",
    "\n",
    "correlation_cols(fish_toxicity['X1-CIC0'], fish_toxicity['Y-LC50'])"
   ]
  },
  {
   "cell_type": "code",
   "execution_count": 404,
   "metadata": {},
   "outputs": [
    {
     "data": {
      "text/html": [
       "<div>\n",
       "<style scoped>\n",
       "    .dataframe tbody tr th:only-of-type {\n",
       "        vertical-align: middle;\n",
       "    }\n",
       "\n",
       "    .dataframe tbody tr th {\n",
       "        vertical-align: top;\n",
       "    }\n",
       "\n",
       "    .dataframe thead th {\n",
       "        text-align: right;\n",
       "    }\n",
       "</style>\n",
       "<table border=\"1\" class=\"dataframe\">\n",
       "  <thead>\n",
       "    <tr style=\"text-align: right;\">\n",
       "      <th></th>\n",
       "      <th>x-values</th>\n",
       "      <th>All correlations</th>\n",
       "    </tr>\n",
       "  </thead>\n",
       "  <tbody>\n",
       "    <tr>\n",
       "      <th>5</th>\n",
       "      <td>X6-MLOGP</td>\n",
       "      <td>0.656267</td>\n",
       "    </tr>\n",
       "    <tr>\n",
       "      <th>1</th>\n",
       "      <td>X2-SM1_Dz(Z)</td>\n",
       "      <td>0.411210</td>\n",
       "    </tr>\n",
       "    <tr>\n",
       "      <th>2</th>\n",
       "      <td>X3-GATS1i</td>\n",
       "      <td>-0.398083</td>\n",
       "    </tr>\n",
       "    <tr>\n",
       "      <th>0</th>\n",
       "      <td>X1-CIC0</td>\n",
       "      <td>0.300848</td>\n",
       "    </tr>\n",
       "    <tr>\n",
       "      <th>4</th>\n",
       "      <td>X5-NdssC</td>\n",
       "      <td>0.173793</td>\n",
       "    </tr>\n",
       "    <tr>\n",
       "      <th>3</th>\n",
       "      <td>X4-NdsCH</td>\n",
       "      <td>0.172969</td>\n",
       "    </tr>\n",
       "  </tbody>\n",
       "</table>\n",
       "</div>"
      ],
      "text/plain": [
       "       x-values  All correlations\n",
       "5      X6-MLOGP          0.656267\n",
       "1  X2-SM1_Dz(Z)          0.411210\n",
       "2     X3-GATS1i         -0.398083\n",
       "0       X1-CIC0          0.300848\n",
       "4      X5-NdssC          0.173793\n",
       "3      X4-NdsCH          0.172969"
      ]
     },
     "execution_count": 404,
     "metadata": {},
     "output_type": "execute_result"
    }
   ],
   "source": [
    "#correlations for all x-values\n",
    "x_values = ['X1-CIC0','X2-SM1_Dz(Z)','X3-GATS1i','X4-NdsCH','X5-NdssC','X6-MLOGP']\n",
    "all_correlations = np.array([])\n",
    "for i in np.arange (len(fish_toxicity.columns)-1):\n",
    "    #adds correlation for each dependent variable to array\n",
    "    correlation_found = correlation_cols(fish_toxicity.iloc[:,i], fish_toxicity['Y-LC50'])\n",
    "    all_correlations = np.append(all_correlations,correlation_found)\n",
    "\n",
    "#converts to dataframe and sorts by correlation\n",
    "correlations_df = pd.DataFrame({\"x-values\": x_values,\"All correlations\": all_correlations})\n",
    "correlations_df.sort_values(by='All correlations', ascending=False, key=abs)"
   ]
  },
  {
   "cell_type": "markdown",
   "metadata": {},
   "source": [
    "# Part 1c: Simple regression - Nearest Neighbour & Least Squares"
   ]
  },
  {
   "cell_type": "code",
   "execution_count": 405,
   "metadata": {},
   "outputs": [],
   "source": [
    "#ft stands for fish_toxicity, included when ft specific\n",
    "#Takes x_cols to compute NN algorithm\n",
    "def nearest_neighbour_ft(x_cols):\n",
    "    #adds all valid x_values from ft to neighbours df\n",
    "    neighbours = fish_toxicity[(fish_toxicity['X1-CIC0'] >= (x_cols-0.25)) & (fish_toxicity['X1-CIC0'] <= (x_cols+0.25))]\n",
    "    return np.mean(neighbours['Y-LC50'])\n",
    "\n",
    "#overrides prev, computes correlations with table in parameters\n",
    "def correlation(t, x, y):\n",
    "    x_su = standardise(t[x])\n",
    "    y_su = standardise(t[y])\n",
    "    return np.mean(x_su * y_su)\n",
    "\n",
    "#performs calculation for slope at any x or y value\n",
    "def slope(t, x, y):\n",
    "    r = correlation(t, x, y)\n",
    "    return r*(np.std(t[y])/np.std(t[x]))\n",
    "\n",
    "#performs calculation for y intercept using any x or y value\n",
    "def intercept(t, x, y):\n",
    "    return np.mean(t[y]) - (slope(t, x, y)*np.mean(t[x]))\n",
    "\n",
    "#ls stands for least squares\n",
    "#creates regression line using any x and y values\n",
    "def fitted_values_ls(t, x, y):\n",
    "    a = slope(t, x, y)\n",
    "    b = intercept(t, x, y)\n",
    "    return a*t[x]+b"
   ]
  },
  {
   "cell_type": "markdown",
   "metadata": {},
   "source": [
    "## Least Squares to table"
   ]
  },
  {
   "cell_type": "code",
   "execution_count": 406,
   "metadata": {},
   "outputs": [
    {
     "name": "stderr",
     "output_type": "stream",
     "text": [
      "<ipython-input-406-e4cbe6e4c0a7>:3: SettingWithCopyWarning: \n",
      "A value is trying to be set on a copy of a slice from a DataFrame.\n",
      "Try using .loc[row_indexer,col_indexer] = value instead\n",
      "\n",
      "See the caveats in the documentation: https://pandas.pydata.org/pandas-docs/stable/user_guide/indexing.html#returning-a-view-versus-a-copy\n",
      "  fish_toxicity['Y-LC50 - Least Squares X1-CIC0'] = np.array(values)\n"
     ]
    },
    {
     "data": {
      "text/html": [
       "<div>\n",
       "<style scoped>\n",
       "    .dataframe tbody tr th:only-of-type {\n",
       "        vertical-align: middle;\n",
       "    }\n",
       "\n",
       "    .dataframe tbody tr th {\n",
       "        vertical-align: top;\n",
       "    }\n",
       "\n",
       "    .dataframe thead th {\n",
       "        text-align: right;\n",
       "    }\n",
       "</style>\n",
       "<table border=\"1\" class=\"dataframe\">\n",
       "  <thead>\n",
       "    <tr style=\"text-align: right;\">\n",
       "      <th></th>\n",
       "      <th>X1-CIC0</th>\n",
       "      <th>X2-SM1_Dz(Z)</th>\n",
       "      <th>X3-GATS1i</th>\n",
       "      <th>X4-NdsCH</th>\n",
       "      <th>X5-NdssC</th>\n",
       "      <th>X6-MLOGP</th>\n",
       "      <th>Y-LC50</th>\n",
       "      <th>Y-LC50 - Least Squares X1-CIC0</th>\n",
       "    </tr>\n",
       "  </thead>\n",
       "  <tbody>\n",
       "    <tr>\n",
       "      <th>0</th>\n",
       "      <td>3.260</td>\n",
       "      <td>0.829</td>\n",
       "      <td>1.676</td>\n",
       "      <td>0</td>\n",
       "      <td>1</td>\n",
       "      <td>1.453</td>\n",
       "      <td>3.770</td>\n",
       "      <td>4.273880</td>\n",
       "    </tr>\n",
       "    <tr>\n",
       "      <th>1</th>\n",
       "      <td>2.189</td>\n",
       "      <td>0.580</td>\n",
       "      <td>0.863</td>\n",
       "      <td>0</td>\n",
       "      <td>0</td>\n",
       "      <td>1.348</td>\n",
       "      <td>3.115</td>\n",
       "      <td>3.642261</td>\n",
       "    </tr>\n",
       "    <tr>\n",
       "      <th>2</th>\n",
       "      <td>2.125</td>\n",
       "      <td>0.638</td>\n",
       "      <td>0.831</td>\n",
       "      <td>0</td>\n",
       "      <td>0</td>\n",
       "      <td>1.348</td>\n",
       "      <td>3.531</td>\n",
       "      <td>3.604517</td>\n",
       "    </tr>\n",
       "    <tr>\n",
       "      <th>3</th>\n",
       "      <td>3.027</td>\n",
       "      <td>0.331</td>\n",
       "      <td>1.472</td>\n",
       "      <td>1</td>\n",
       "      <td>0</td>\n",
       "      <td>1.807</td>\n",
       "      <td>3.510</td>\n",
       "      <td>4.136469</td>\n",
       "    </tr>\n",
       "    <tr>\n",
       "      <th>4</th>\n",
       "      <td>2.094</td>\n",
       "      <td>0.827</td>\n",
       "      <td>0.860</td>\n",
       "      <td>0</td>\n",
       "      <td>0</td>\n",
       "      <td>1.886</td>\n",
       "      <td>5.390</td>\n",
       "      <td>3.586235</td>\n",
       "    </tr>\n",
       "    <tr>\n",
       "      <th>...</th>\n",
       "      <td>...</td>\n",
       "      <td>...</td>\n",
       "      <td>...</td>\n",
       "      <td>...</td>\n",
       "      <td>...</td>\n",
       "      <td>...</td>\n",
       "      <td>...</td>\n",
       "      <td>...</td>\n",
       "    </tr>\n",
       "    <tr>\n",
       "      <th>903</th>\n",
       "      <td>2.801</td>\n",
       "      <td>0.728</td>\n",
       "      <td>2.226</td>\n",
       "      <td>0</td>\n",
       "      <td>2</td>\n",
       "      <td>0.736</td>\n",
       "      <td>3.109</td>\n",
       "      <td>4.003186</td>\n",
       "    </tr>\n",
       "    <tr>\n",
       "      <th>904</th>\n",
       "      <td>3.652</td>\n",
       "      <td>0.872</td>\n",
       "      <td>0.867</td>\n",
       "      <td>2</td>\n",
       "      <td>3</td>\n",
       "      <td>3.983</td>\n",
       "      <td>4.040</td>\n",
       "      <td>4.505061</td>\n",
       "    </tr>\n",
       "    <tr>\n",
       "      <th>905</th>\n",
       "      <td>3.763</td>\n",
       "      <td>0.916</td>\n",
       "      <td>0.878</td>\n",
       "      <td>0</td>\n",
       "      <td>6</td>\n",
       "      <td>2.918</td>\n",
       "      <td>4.818</td>\n",
       "      <td>4.570523</td>\n",
       "    </tr>\n",
       "    <tr>\n",
       "      <th>906</th>\n",
       "      <td>2.831</td>\n",
       "      <td>1.393</td>\n",
       "      <td>1.077</td>\n",
       "      <td>0</td>\n",
       "      <td>1</td>\n",
       "      <td>0.906</td>\n",
       "      <td>5.317</td>\n",
       "      <td>4.020878</td>\n",
       "    </tr>\n",
       "    <tr>\n",
       "      <th>907</th>\n",
       "      <td>4.057</td>\n",
       "      <td>1.032</td>\n",
       "      <td>1.183</td>\n",
       "      <td>1</td>\n",
       "      <td>3</td>\n",
       "      <td>4.754</td>\n",
       "      <td>8.201</td>\n",
       "      <td>4.743909</td>\n",
       "    </tr>\n",
       "  </tbody>\n",
       "</table>\n",
       "<p>905 rows × 8 columns</p>\n",
       "</div>"
      ],
      "text/plain": [
       "     X1-CIC0  X2-SM1_Dz(Z)  X3-GATS1i  X4-NdsCH  X5-NdssC  X6-MLOGP  Y-LC50  \\\n",
       "0      3.260         0.829      1.676         0         1     1.453   3.770   \n",
       "1      2.189         0.580      0.863         0         0     1.348   3.115   \n",
       "2      2.125         0.638      0.831         0         0     1.348   3.531   \n",
       "3      3.027         0.331      1.472         1         0     1.807   3.510   \n",
       "4      2.094         0.827      0.860         0         0     1.886   5.390   \n",
       "..       ...           ...        ...       ...       ...       ...     ...   \n",
       "903    2.801         0.728      2.226         0         2     0.736   3.109   \n",
       "904    3.652         0.872      0.867         2         3     3.983   4.040   \n",
       "905    3.763         0.916      0.878         0         6     2.918   4.818   \n",
       "906    2.831         1.393      1.077         0         1     0.906   5.317   \n",
       "907    4.057         1.032      1.183         1         3     4.754   8.201   \n",
       "\n",
       "     Y-LC50 - Least Squares X1-CIC0  \n",
       "0                          4.273880  \n",
       "1                          3.642261  \n",
       "2                          3.604517  \n",
       "3                          4.136469  \n",
       "4                          3.586235  \n",
       "..                              ...  \n",
       "903                        4.003186  \n",
       "904                        4.505061  \n",
       "905                        4.570523  \n",
       "906                        4.020878  \n",
       "907                        4.743909  \n",
       "\n",
       "[905 rows x 8 columns]"
      ]
     },
     "execution_count": 406,
     "metadata": {},
     "output_type": "execute_result"
    }
   ],
   "source": [
    "# Adds predictions for Y-LC50 using Least Squares algorithm with X1-CIC0\n",
    "values = fitted_values(fish_toxicity,'X1-CIC0','Y-LC50')\n",
    "fish_toxicity['Y-LC50 - Least Squares X1-CIC0'] = np.array(values)\n",
    "fish_toxicity\n"
   ]
  },
  {
   "cell_type": "markdown",
   "metadata": {},
   "source": [
    "## Nearest Neighbour"
   ]
  },
  {
   "cell_type": "code",
   "execution_count": 407,
   "metadata": {},
   "outputs": [
    {
     "name": "stderr",
     "output_type": "stream",
     "text": [
      "<ipython-input-407-f87bc4556a1f>:3: SettingWithCopyWarning: \n",
      "A value is trying to be set on a copy of a slice from a DataFrame.\n",
      "Try using .loc[row_indexer,col_indexer] = value instead\n",
      "\n",
      "See the caveats in the documentation: https://pandas.pydata.org/pandas-docs/stable/user_guide/indexing.html#returning-a-view-versus-a-copy\n",
      "  fish_toxicity['Y-LC50 - Nearest Neighbour X1-CIC0'] = np.array(list(nn_results))\n"
     ]
    },
    {
     "data": {
      "text/html": [
       "<div>\n",
       "<style scoped>\n",
       "    .dataframe tbody tr th:only-of-type {\n",
       "        vertical-align: middle;\n",
       "    }\n",
       "\n",
       "    .dataframe tbody tr th {\n",
       "        vertical-align: top;\n",
       "    }\n",
       "\n",
       "    .dataframe thead th {\n",
       "        text-align: right;\n",
       "    }\n",
       "</style>\n",
       "<table border=\"1\" class=\"dataframe\">\n",
       "  <thead>\n",
       "    <tr style=\"text-align: right;\">\n",
       "      <th></th>\n",
       "      <th>X1-CIC0</th>\n",
       "      <th>X2-SM1_Dz(Z)</th>\n",
       "      <th>X3-GATS1i</th>\n",
       "      <th>X4-NdsCH</th>\n",
       "      <th>X5-NdssC</th>\n",
       "      <th>X6-MLOGP</th>\n",
       "      <th>Y-LC50</th>\n",
       "      <th>Y-LC50 - Least Squares X1-CIC0</th>\n",
       "      <th>Y-LC50 - Nearest Neighbour X1-CIC0</th>\n",
       "    </tr>\n",
       "  </thead>\n",
       "  <tbody>\n",
       "    <tr>\n",
       "      <th>0</th>\n",
       "      <td>3.260</td>\n",
       "      <td>0.829</td>\n",
       "      <td>1.676</td>\n",
       "      <td>0</td>\n",
       "      <td>1</td>\n",
       "      <td>1.453</td>\n",
       "      <td>3.770</td>\n",
       "      <td>4.273880</td>\n",
       "      <td>4.032958</td>\n",
       "    </tr>\n",
       "    <tr>\n",
       "      <th>1</th>\n",
       "      <td>2.189</td>\n",
       "      <td>0.580</td>\n",
       "      <td>0.863</td>\n",
       "      <td>0</td>\n",
       "      <td>0</td>\n",
       "      <td>1.348</td>\n",
       "      <td>3.115</td>\n",
       "      <td>3.642261</td>\n",
       "      <td>3.869518</td>\n",
       "    </tr>\n",
       "    <tr>\n",
       "      <th>2</th>\n",
       "      <td>2.125</td>\n",
       "      <td>0.638</td>\n",
       "      <td>0.831</td>\n",
       "      <td>0</td>\n",
       "      <td>0</td>\n",
       "      <td>1.348</td>\n",
       "      <td>3.531</td>\n",
       "      <td>3.604517</td>\n",
       "      <td>3.972799</td>\n",
       "    </tr>\n",
       "    <tr>\n",
       "      <th>3</th>\n",
       "      <td>3.027</td>\n",
       "      <td>0.331</td>\n",
       "      <td>1.472</td>\n",
       "      <td>1</td>\n",
       "      <td>0</td>\n",
       "      <td>1.807</td>\n",
       "      <td>3.510</td>\n",
       "      <td>4.136469</td>\n",
       "      <td>3.910361</td>\n",
       "    </tr>\n",
       "    <tr>\n",
       "      <th>4</th>\n",
       "      <td>2.094</td>\n",
       "      <td>0.827</td>\n",
       "      <td>0.860</td>\n",
       "      <td>0</td>\n",
       "      <td>0</td>\n",
       "      <td>1.886</td>\n",
       "      <td>5.390</td>\n",
       "      <td>3.586235</td>\n",
       "      <td>3.996494</td>\n",
       "    </tr>\n",
       "    <tr>\n",
       "      <th>...</th>\n",
       "      <td>...</td>\n",
       "      <td>...</td>\n",
       "      <td>...</td>\n",
       "      <td>...</td>\n",
       "      <td>...</td>\n",
       "      <td>...</td>\n",
       "      <td>...</td>\n",
       "      <td>...</td>\n",
       "      <td>...</td>\n",
       "    </tr>\n",
       "    <tr>\n",
       "      <th>903</th>\n",
       "      <td>2.801</td>\n",
       "      <td>0.728</td>\n",
       "      <td>2.226</td>\n",
       "      <td>0</td>\n",
       "      <td>2</td>\n",
       "      <td>0.736</td>\n",
       "      <td>3.109</td>\n",
       "      <td>4.003186</td>\n",
       "      <td>3.637951</td>\n",
       "    </tr>\n",
       "    <tr>\n",
       "      <th>904</th>\n",
       "      <td>3.652</td>\n",
       "      <td>0.872</td>\n",
       "      <td>0.867</td>\n",
       "      <td>2</td>\n",
       "      <td>3</td>\n",
       "      <td>3.983</td>\n",
       "      <td>4.040</td>\n",
       "      <td>4.505061</td>\n",
       "      <td>4.438355</td>\n",
       "    </tr>\n",
       "    <tr>\n",
       "      <th>905</th>\n",
       "      <td>3.763</td>\n",
       "      <td>0.916</td>\n",
       "      <td>0.878</td>\n",
       "      <td>0</td>\n",
       "      <td>6</td>\n",
       "      <td>2.918</td>\n",
       "      <td>4.818</td>\n",
       "      <td>4.570523</td>\n",
       "      <td>4.486773</td>\n",
       "    </tr>\n",
       "    <tr>\n",
       "      <th>906</th>\n",
       "      <td>2.831</td>\n",
       "      <td>1.393</td>\n",
       "      <td>1.077</td>\n",
       "      <td>0</td>\n",
       "      <td>1</td>\n",
       "      <td>0.906</td>\n",
       "      <td>5.317</td>\n",
       "      <td>4.020878</td>\n",
       "      <td>3.669040</td>\n",
       "    </tr>\n",
       "    <tr>\n",
       "      <th>907</th>\n",
       "      <td>4.057</td>\n",
       "      <td>1.032</td>\n",
       "      <td>1.183</td>\n",
       "      <td>1</td>\n",
       "      <td>3</td>\n",
       "      <td>4.754</td>\n",
       "      <td>8.201</td>\n",
       "      <td>4.743909</td>\n",
       "      <td>5.131767</td>\n",
       "    </tr>\n",
       "  </tbody>\n",
       "</table>\n",
       "<p>905 rows × 9 columns</p>\n",
       "</div>"
      ],
      "text/plain": [
       "     X1-CIC0  X2-SM1_Dz(Z)  X3-GATS1i  X4-NdsCH  X5-NdssC  X6-MLOGP  Y-LC50  \\\n",
       "0      3.260         0.829      1.676         0         1     1.453   3.770   \n",
       "1      2.189         0.580      0.863         0         0     1.348   3.115   \n",
       "2      2.125         0.638      0.831         0         0     1.348   3.531   \n",
       "3      3.027         0.331      1.472         1         0     1.807   3.510   \n",
       "4      2.094         0.827      0.860         0         0     1.886   5.390   \n",
       "..       ...           ...        ...       ...       ...       ...     ...   \n",
       "903    2.801         0.728      2.226         0         2     0.736   3.109   \n",
       "904    3.652         0.872      0.867         2         3     3.983   4.040   \n",
       "905    3.763         0.916      0.878         0         6     2.918   4.818   \n",
       "906    2.831         1.393      1.077         0         1     0.906   5.317   \n",
       "907    4.057         1.032      1.183         1         3     4.754   8.201   \n",
       "\n",
       "     Y-LC50 - Least Squares X1-CIC0  Y-LC50 - Nearest Neighbour X1-CIC0  \n",
       "0                          4.273880                            4.032958  \n",
       "1                          3.642261                            3.869518  \n",
       "2                          3.604517                            3.972799  \n",
       "3                          4.136469                            3.910361  \n",
       "4                          3.586235                            3.996494  \n",
       "..                              ...                                 ...  \n",
       "903                        4.003186                            3.637951  \n",
       "904                        4.505061                            4.438355  \n",
       "905                        4.570523                            4.486773  \n",
       "906                        4.020878                            3.669040  \n",
       "907                        4.743909                            5.131767  \n",
       "\n",
       "[905 rows x 9 columns]"
      ]
     },
     "execution_count": 407,
     "metadata": {},
     "output_type": "execute_result"
    }
   ],
   "source": [
    "#creates new column within fish_toxicity containing results of nn\n",
    "nn_results = map(nearest_neighbour_ft, fish_toxicity['X1-CIC0'])\n",
    "fish_toxicity['Y-LC50 - Nearest Neighbour X1-CIC0'] = np.array(list(nn_results))\n",
    "fish_toxicity"
   ]
  },
  {
   "cell_type": "code",
   "execution_count": 408,
   "metadata": {},
   "outputs": [
    {
     "data": {
      "text/plain": [
       "0       True\n",
       "1      False\n",
       "2      False\n",
       "3       True\n",
       "4      False\n",
       "       ...  \n",
       "903     True\n",
       "904     True\n",
       "905     True\n",
       "906     True\n",
       "907     True\n",
       "Name: X1-CIC0, Length: 905, dtype: bool"
      ]
     },
     "execution_count": 408,
     "metadata": {},
     "output_type": "execute_result"
    }
   ],
   "source": [
    "fish_toxicity['X1-CIC0'] >= 2.5"
   ]
  },
  {
   "cell_type": "markdown",
   "metadata": {},
   "source": [
    "# Residuals - NN and LS"
   ]
  },
  {
   "cell_type": "code",
   "execution_count": 409,
   "metadata": {},
   "outputs": [],
   "source": [
    "def residuals_least_squares(t, x, y):\n",
    "    predictions = fitted_values(t, x, y)\n",
    "    return t[y] - predictions\n",
    "\n",
    "def residuals_NN(t, x, y):\n",
    "    return t['Y-LC50'] - t['Y-LC50 - Nearest Neighbour X1-CIC0']"
   ]
  },
  {
   "cell_type": "code",
   "execution_count": 410,
   "metadata": {},
   "outputs": [
    {
     "data": {
      "text/html": [
       "<div>\n",
       "<style scoped>\n",
       "    .dataframe tbody tr th:only-of-type {\n",
       "        vertical-align: middle;\n",
       "    }\n",
       "\n",
       "    .dataframe tbody tr th {\n",
       "        vertical-align: top;\n",
       "    }\n",
       "\n",
       "    .dataframe thead th {\n",
       "        text-align: right;\n",
       "    }\n",
       "</style>\n",
       "<table border=\"1\" class=\"dataframe\">\n",
       "  <thead>\n",
       "    <tr style=\"text-align: right;\">\n",
       "      <th></th>\n",
       "      <th>X1-CIC0</th>\n",
       "      <th>X2-SM1_Dz(Z)</th>\n",
       "      <th>X3-GATS1i</th>\n",
       "      <th>X4-NdsCH</th>\n",
       "      <th>X5-NdssC</th>\n",
       "      <th>Y-LC50</th>\n",
       "      <th>Y-LC50 - Least Squares X1-CIC0</th>\n",
       "      <th>Y-LC50 - Nearest Neighbour X1-CIC0</th>\n",
       "      <th>Residuals - Nearest Neighbours</th>\n",
       "    </tr>\n",
       "  </thead>\n",
       "  <tbody>\n",
       "    <tr>\n",
       "      <th>0</th>\n",
       "      <td>3.260</td>\n",
       "      <td>0.829</td>\n",
       "      <td>1.676</td>\n",
       "      <td>0</td>\n",
       "      <td>1</td>\n",
       "      <td>3.770</td>\n",
       "      <td>4.273880</td>\n",
       "      <td>4.032958</td>\n",
       "      <td>-0.262958</td>\n",
       "    </tr>\n",
       "    <tr>\n",
       "      <th>1</th>\n",
       "      <td>2.189</td>\n",
       "      <td>0.580</td>\n",
       "      <td>0.863</td>\n",
       "      <td>0</td>\n",
       "      <td>0</td>\n",
       "      <td>3.115</td>\n",
       "      <td>3.642261</td>\n",
       "      <td>3.869518</td>\n",
       "      <td>-0.754518</td>\n",
       "    </tr>\n",
       "    <tr>\n",
       "      <th>2</th>\n",
       "      <td>2.125</td>\n",
       "      <td>0.638</td>\n",
       "      <td>0.831</td>\n",
       "      <td>0</td>\n",
       "      <td>0</td>\n",
       "      <td>3.531</td>\n",
       "      <td>3.604517</td>\n",
       "      <td>3.972799</td>\n",
       "      <td>-0.441799</td>\n",
       "    </tr>\n",
       "    <tr>\n",
       "      <th>3</th>\n",
       "      <td>3.027</td>\n",
       "      <td>0.331</td>\n",
       "      <td>1.472</td>\n",
       "      <td>1</td>\n",
       "      <td>0</td>\n",
       "      <td>3.510</td>\n",
       "      <td>4.136469</td>\n",
       "      <td>3.910361</td>\n",
       "      <td>-0.400361</td>\n",
       "    </tr>\n",
       "    <tr>\n",
       "      <th>4</th>\n",
       "      <td>2.094</td>\n",
       "      <td>0.827</td>\n",
       "      <td>0.860</td>\n",
       "      <td>0</td>\n",
       "      <td>0</td>\n",
       "      <td>5.390</td>\n",
       "      <td>3.586235</td>\n",
       "      <td>3.996494</td>\n",
       "      <td>1.393506</td>\n",
       "    </tr>\n",
       "    <tr>\n",
       "      <th>...</th>\n",
       "      <td>...</td>\n",
       "      <td>...</td>\n",
       "      <td>...</td>\n",
       "      <td>...</td>\n",
       "      <td>...</td>\n",
       "      <td>...</td>\n",
       "      <td>...</td>\n",
       "      <td>...</td>\n",
       "      <td>...</td>\n",
       "    </tr>\n",
       "    <tr>\n",
       "      <th>903</th>\n",
       "      <td>2.801</td>\n",
       "      <td>0.728</td>\n",
       "      <td>2.226</td>\n",
       "      <td>0</td>\n",
       "      <td>2</td>\n",
       "      <td>3.109</td>\n",
       "      <td>4.003186</td>\n",
       "      <td>3.637951</td>\n",
       "      <td>-0.528951</td>\n",
       "    </tr>\n",
       "    <tr>\n",
       "      <th>904</th>\n",
       "      <td>3.652</td>\n",
       "      <td>0.872</td>\n",
       "      <td>0.867</td>\n",
       "      <td>2</td>\n",
       "      <td>3</td>\n",
       "      <td>4.040</td>\n",
       "      <td>4.505061</td>\n",
       "      <td>4.438355</td>\n",
       "      <td>-0.398355</td>\n",
       "    </tr>\n",
       "    <tr>\n",
       "      <th>905</th>\n",
       "      <td>3.763</td>\n",
       "      <td>0.916</td>\n",
       "      <td>0.878</td>\n",
       "      <td>0</td>\n",
       "      <td>6</td>\n",
       "      <td>4.818</td>\n",
       "      <td>4.570523</td>\n",
       "      <td>4.486773</td>\n",
       "      <td>0.331227</td>\n",
       "    </tr>\n",
       "    <tr>\n",
       "      <th>906</th>\n",
       "      <td>2.831</td>\n",
       "      <td>1.393</td>\n",
       "      <td>1.077</td>\n",
       "      <td>0</td>\n",
       "      <td>1</td>\n",
       "      <td>5.317</td>\n",
       "      <td>4.020878</td>\n",
       "      <td>3.669040</td>\n",
       "      <td>1.647960</td>\n",
       "    </tr>\n",
       "    <tr>\n",
       "      <th>907</th>\n",
       "      <td>4.057</td>\n",
       "      <td>1.032</td>\n",
       "      <td>1.183</td>\n",
       "      <td>1</td>\n",
       "      <td>3</td>\n",
       "      <td>8.201</td>\n",
       "      <td>4.743909</td>\n",
       "      <td>5.131767</td>\n",
       "      <td>3.069233</td>\n",
       "    </tr>\n",
       "  </tbody>\n",
       "</table>\n",
       "<p>905 rows × 9 columns</p>\n",
       "</div>"
      ],
      "text/plain": [
       "     X1-CIC0  X2-SM1_Dz(Z)  X3-GATS1i  X4-NdsCH  X5-NdssC  Y-LC50  \\\n",
       "0      3.260         0.829      1.676         0         1   3.770   \n",
       "1      2.189         0.580      0.863         0         0   3.115   \n",
       "2      2.125         0.638      0.831         0         0   3.531   \n",
       "3      3.027         0.331      1.472         1         0   3.510   \n",
       "4      2.094         0.827      0.860         0         0   5.390   \n",
       "..       ...           ...        ...       ...       ...     ...   \n",
       "903    2.801         0.728      2.226         0         2   3.109   \n",
       "904    3.652         0.872      0.867         2         3   4.040   \n",
       "905    3.763         0.916      0.878         0         6   4.818   \n",
       "906    2.831         1.393      1.077         0         1   5.317   \n",
       "907    4.057         1.032      1.183         1         3   8.201   \n",
       "\n",
       "     Y-LC50 - Least Squares X1-CIC0  Y-LC50 - Nearest Neighbour X1-CIC0  \\\n",
       "0                          4.273880                            4.032958   \n",
       "1                          3.642261                            3.869518   \n",
       "2                          3.604517                            3.972799   \n",
       "3                          4.136469                            3.910361   \n",
       "4                          3.586235                            3.996494   \n",
       "..                              ...                                 ...   \n",
       "903                        4.003186                            3.637951   \n",
       "904                        4.505061                            4.438355   \n",
       "905                        4.570523                            4.486773   \n",
       "906                        4.020878                            3.669040   \n",
       "907                        4.743909                            5.131767   \n",
       "\n",
       "     Residuals - Nearest Neighbours  \n",
       "0                         -0.262958  \n",
       "1                         -0.754518  \n",
       "2                         -0.441799  \n",
       "3                         -0.400361  \n",
       "4                          1.393506  \n",
       "..                              ...  \n",
       "903                       -0.528951  \n",
       "904                       -0.398355  \n",
       "905                        0.331227  \n",
       "906                        1.647960  \n",
       "907                        3.069233  \n",
       "\n",
       "[905 rows x 9 columns]"
      ]
     },
     "execution_count": 410,
     "metadata": {},
     "output_type": "execute_result"
    }
   ],
   "source": [
    "#Residuals for Nearest Neighbour\n",
    "ft_residuals=fish_toxicity.copy().drop(columns=['X6-MLOGP'])\n",
    "ft_residuals['Residuals - Nearest Neighbours'] = list(residuals_NN(fish_toxicity,'X1-CIC0','Y-LC50'))\n",
    "ft_residuals"
   ]
  },
  {
   "cell_type": "code",
   "execution_count": 411,
   "metadata": {},
   "outputs": [
    {
     "data": {
      "text/plain": [
       "-0.0009252048178863456"
      ]
     },
     "execution_count": 411,
     "metadata": {},
     "output_type": "execute_result"
    }
   ],
   "source": [
    "np.mean(ft_residuals['Residuals - Nearest Neighbours'])"
   ]
  },
  {
   "cell_type": "code",
   "execution_count": 412,
   "metadata": {},
   "outputs": [
    {
     "data": {
      "text/html": [
       "<div>\n",
       "<style scoped>\n",
       "    .dataframe tbody tr th:only-of-type {\n",
       "        vertical-align: middle;\n",
       "    }\n",
       "\n",
       "    .dataframe tbody tr th {\n",
       "        vertical-align: top;\n",
       "    }\n",
       "\n",
       "    .dataframe thead th {\n",
       "        text-align: right;\n",
       "    }\n",
       "</style>\n",
       "<table border=\"1\" class=\"dataframe\">\n",
       "  <thead>\n",
       "    <tr style=\"text-align: right;\">\n",
       "      <th></th>\n",
       "      <th>X1-CIC0</th>\n",
       "      <th>X2-SM1_Dz(Z)</th>\n",
       "      <th>X3-GATS1i</th>\n",
       "      <th>X4-NdsCH</th>\n",
       "      <th>X5-NdssC</th>\n",
       "      <th>Y-LC50</th>\n",
       "      <th>Y-LC50 - Least Squares X1-CIC0</th>\n",
       "      <th>Y-LC50 - Nearest Neighbour X1-CIC0</th>\n",
       "      <th>Residuals - Nearest Neighbours</th>\n",
       "      <th>Residuals - Least Squares</th>\n",
       "    </tr>\n",
       "  </thead>\n",
       "  <tbody>\n",
       "    <tr>\n",
       "      <th>0</th>\n",
       "      <td>3.260</td>\n",
       "      <td>0.829</td>\n",
       "      <td>1.676</td>\n",
       "      <td>0</td>\n",
       "      <td>1</td>\n",
       "      <td>3.770</td>\n",
       "      <td>4.273880</td>\n",
       "      <td>4.032958</td>\n",
       "      <td>-0.262958</td>\n",
       "      <td>-0.503880</td>\n",
       "    </tr>\n",
       "    <tr>\n",
       "      <th>1</th>\n",
       "      <td>2.189</td>\n",
       "      <td>0.580</td>\n",
       "      <td>0.863</td>\n",
       "      <td>0</td>\n",
       "      <td>0</td>\n",
       "      <td>3.115</td>\n",
       "      <td>3.642261</td>\n",
       "      <td>3.869518</td>\n",
       "      <td>-0.754518</td>\n",
       "      <td>-0.527261</td>\n",
       "    </tr>\n",
       "    <tr>\n",
       "      <th>2</th>\n",
       "      <td>2.125</td>\n",
       "      <td>0.638</td>\n",
       "      <td>0.831</td>\n",
       "      <td>0</td>\n",
       "      <td>0</td>\n",
       "      <td>3.531</td>\n",
       "      <td>3.604517</td>\n",
       "      <td>3.972799</td>\n",
       "      <td>-0.441799</td>\n",
       "      <td>-0.073517</td>\n",
       "    </tr>\n",
       "    <tr>\n",
       "      <th>3</th>\n",
       "      <td>3.027</td>\n",
       "      <td>0.331</td>\n",
       "      <td>1.472</td>\n",
       "      <td>1</td>\n",
       "      <td>0</td>\n",
       "      <td>3.510</td>\n",
       "      <td>4.136469</td>\n",
       "      <td>3.910361</td>\n",
       "      <td>-0.400361</td>\n",
       "      <td>-0.626469</td>\n",
       "    </tr>\n",
       "    <tr>\n",
       "      <th>4</th>\n",
       "      <td>2.094</td>\n",
       "      <td>0.827</td>\n",
       "      <td>0.860</td>\n",
       "      <td>0</td>\n",
       "      <td>0</td>\n",
       "      <td>5.390</td>\n",
       "      <td>3.586235</td>\n",
       "      <td>3.996494</td>\n",
       "      <td>1.393506</td>\n",
       "      <td>1.803765</td>\n",
       "    </tr>\n",
       "    <tr>\n",
       "      <th>...</th>\n",
       "      <td>...</td>\n",
       "      <td>...</td>\n",
       "      <td>...</td>\n",
       "      <td>...</td>\n",
       "      <td>...</td>\n",
       "      <td>...</td>\n",
       "      <td>...</td>\n",
       "      <td>...</td>\n",
       "      <td>...</td>\n",
       "      <td>...</td>\n",
       "    </tr>\n",
       "    <tr>\n",
       "      <th>903</th>\n",
       "      <td>2.801</td>\n",
       "      <td>0.728</td>\n",
       "      <td>2.226</td>\n",
       "      <td>0</td>\n",
       "      <td>2</td>\n",
       "      <td>3.109</td>\n",
       "      <td>4.003186</td>\n",
       "      <td>3.637951</td>\n",
       "      <td>-0.528951</td>\n",
       "      <td>-0.894186</td>\n",
       "    </tr>\n",
       "    <tr>\n",
       "      <th>904</th>\n",
       "      <td>3.652</td>\n",
       "      <td>0.872</td>\n",
       "      <td>0.867</td>\n",
       "      <td>2</td>\n",
       "      <td>3</td>\n",
       "      <td>4.040</td>\n",
       "      <td>4.505061</td>\n",
       "      <td>4.438355</td>\n",
       "      <td>-0.398355</td>\n",
       "      <td>-0.465061</td>\n",
       "    </tr>\n",
       "    <tr>\n",
       "      <th>905</th>\n",
       "      <td>3.763</td>\n",
       "      <td>0.916</td>\n",
       "      <td>0.878</td>\n",
       "      <td>0</td>\n",
       "      <td>6</td>\n",
       "      <td>4.818</td>\n",
       "      <td>4.570523</td>\n",
       "      <td>4.486773</td>\n",
       "      <td>0.331227</td>\n",
       "      <td>0.247477</td>\n",
       "    </tr>\n",
       "    <tr>\n",
       "      <th>906</th>\n",
       "      <td>2.831</td>\n",
       "      <td>1.393</td>\n",
       "      <td>1.077</td>\n",
       "      <td>0</td>\n",
       "      <td>1</td>\n",
       "      <td>5.317</td>\n",
       "      <td>4.020878</td>\n",
       "      <td>3.669040</td>\n",
       "      <td>1.647960</td>\n",
       "      <td>1.296122</td>\n",
       "    </tr>\n",
       "    <tr>\n",
       "      <th>907</th>\n",
       "      <td>4.057</td>\n",
       "      <td>1.032</td>\n",
       "      <td>1.183</td>\n",
       "      <td>1</td>\n",
       "      <td>3</td>\n",
       "      <td>8.201</td>\n",
       "      <td>4.743909</td>\n",
       "      <td>5.131767</td>\n",
       "      <td>3.069233</td>\n",
       "      <td>3.457091</td>\n",
       "    </tr>\n",
       "  </tbody>\n",
       "</table>\n",
       "<p>905 rows × 10 columns</p>\n",
       "</div>"
      ],
      "text/plain": [
       "     X1-CIC0  X2-SM1_Dz(Z)  X3-GATS1i  X4-NdsCH  X5-NdssC  Y-LC50  \\\n",
       "0      3.260         0.829      1.676         0         1   3.770   \n",
       "1      2.189         0.580      0.863         0         0   3.115   \n",
       "2      2.125         0.638      0.831         0         0   3.531   \n",
       "3      3.027         0.331      1.472         1         0   3.510   \n",
       "4      2.094         0.827      0.860         0         0   5.390   \n",
       "..       ...           ...        ...       ...       ...     ...   \n",
       "903    2.801         0.728      2.226         0         2   3.109   \n",
       "904    3.652         0.872      0.867         2         3   4.040   \n",
       "905    3.763         0.916      0.878         0         6   4.818   \n",
       "906    2.831         1.393      1.077         0         1   5.317   \n",
       "907    4.057         1.032      1.183         1         3   8.201   \n",
       "\n",
       "     Y-LC50 - Least Squares X1-CIC0  Y-LC50 - Nearest Neighbour X1-CIC0  \\\n",
       "0                          4.273880                            4.032958   \n",
       "1                          3.642261                            3.869518   \n",
       "2                          3.604517                            3.972799   \n",
       "3                          4.136469                            3.910361   \n",
       "4                          3.586235                            3.996494   \n",
       "..                              ...                                 ...   \n",
       "903                        4.003186                            3.637951   \n",
       "904                        4.505061                            4.438355   \n",
       "905                        4.570523                            4.486773   \n",
       "906                        4.020878                            3.669040   \n",
       "907                        4.743909                            5.131767   \n",
       "\n",
       "     Residuals - Nearest Neighbours  Residuals - Least Squares  \n",
       "0                         -0.262958                  -0.503880  \n",
       "1                         -0.754518                  -0.527261  \n",
       "2                         -0.441799                  -0.073517  \n",
       "3                         -0.400361                  -0.626469  \n",
       "4                          1.393506                   1.803765  \n",
       "..                              ...                        ...  \n",
       "903                       -0.528951                  -0.894186  \n",
       "904                       -0.398355                  -0.465061  \n",
       "905                        0.331227                   0.247477  \n",
       "906                        1.647960                   1.296122  \n",
       "907                        3.069233                   3.457091  \n",
       "\n",
       "[905 rows x 10 columns]"
      ]
     },
     "execution_count": 412,
     "metadata": {},
     "output_type": "execute_result"
    }
   ],
   "source": [
    "#Residuals for Least Squares\n",
    "residuals = residuals_least_squares(fish_toxicity,'X1-CIC0','Y-LC50')\n",
    "ft_residuals['Residuals - Least Squares'] = np.array(residuals)\n",
    "ft_residuals"
   ]
  },
  {
   "cell_type": "code",
   "execution_count": 413,
   "metadata": {},
   "outputs": [
    {
     "data": {
      "text/plain": [
       "-0.0009252048178863456"
      ]
     },
     "execution_count": 413,
     "metadata": {},
     "output_type": "execute_result"
    }
   ],
   "source": [
    "np.mean(ft_residuals['Residuals - Nearest Neighbours'])"
   ]
  },
  {
   "cell_type": "code",
   "execution_count": 414,
   "metadata": {},
   "outputs": [
    {
     "data": {
      "text/plain": [
       "-0.8373103601872067"
      ]
     },
     "execution_count": 414,
     "metadata": {},
     "output_type": "execute_result"
    }
   ],
   "source": [
    "np.sum(ft_residuals['Residuals - Nearest Neighbours'])"
   ]
  },
  {
   "cell_type": "code",
   "execution_count": 415,
   "metadata": {},
   "outputs": [
    {
     "data": {
      "text/plain": [
       "0.021169555089992374"
      ]
     },
     "execution_count": 415,
     "metadata": {},
     "output_type": "execute_result"
    }
   ],
   "source": [
    "correlation(ft_residuals,'Y-LC50 - Nearest Neighbour X1-CIC0','Residuals - Nearest Neighbours')"
   ]
  },
  {
   "cell_type": "code",
   "execution_count": 416,
   "metadata": {},
   "outputs": [
    {
     "data": {
      "text/plain": [
       "0.013149260879647188"
      ]
     },
     "execution_count": 416,
     "metadata": {},
     "output_type": "execute_result"
    }
   ],
   "source": [
    "correlation(ft_residuals,'X1-CIC0','Residuals - Nearest Neighbours')"
   ]
  },
  {
   "cell_type": "code",
   "execution_count": 417,
   "metadata": {},
   "outputs": [
    {
     "data": {
      "text/plain": [
       "1.344595558509845"
      ]
     },
     "execution_count": 417,
     "metadata": {},
     "output_type": "execute_result"
    }
   ],
   "source": [
    "RMSE = np.mean(ft_residuals['Residuals - Nearest Neighbours'] ** 2) ** 0.5\n",
    "RMSE"
   ]
  },
  {
   "cell_type": "code",
   "execution_count": 418,
   "metadata": {},
   "outputs": [
    {
     "data": {
      "text/plain": [
       "1.3445952401970078"
      ]
     },
     "execution_count": 418,
     "metadata": {},
     "output_type": "execute_result"
    }
   ],
   "source": [
    "np.std(ft_residuals['Residuals - Nearest Neighbours'])"
   ]
  },
  {
   "cell_type": "code",
   "execution_count": 419,
   "metadata": {},
   "outputs": [
    {
     "data": {
      "text/plain": [
       "-5.976802846379849e-16"
      ]
     },
     "execution_count": 419,
     "metadata": {},
     "output_type": "execute_result"
    }
   ],
   "source": [
    "np.mean(ft_residuals['Residuals - Least Squares'])"
   ]
  },
  {
   "cell_type": "code",
   "execution_count": 420,
   "metadata": {},
   "outputs": [
    {
     "data": {
      "text/plain": [
       "-5.364597654988756e-13"
      ]
     },
     "execution_count": 420,
     "metadata": {},
     "output_type": "execute_result"
    }
   ],
   "source": [
    "np.sum(ft_residuals['Residuals - Least Squares'])"
   ]
  },
  {
   "cell_type": "code",
   "execution_count": 421,
   "metadata": {},
   "outputs": [
    {
     "data": {
      "text/plain": [
       "1.840148659599707e-16"
      ]
     },
     "execution_count": 421,
     "metadata": {},
     "output_type": "execute_result"
    }
   ],
   "source": [
    "correlation(ft_residuals,'Y-LC50 - Least Squares X1-CIC0','Residuals - Least Squares')"
   ]
  },
  {
   "cell_type": "code",
   "execution_count": 422,
   "metadata": {},
   "outputs": [
    {
     "data": {
      "text/plain": [
       "2.0855018142130013e-16"
      ]
     },
     "execution_count": 422,
     "metadata": {},
     "output_type": "execute_result"
    }
   ],
   "source": [
    "correlation(ft_residuals,'X1-CIC0','Residuals - Least Squares')"
   ]
  },
  {
   "cell_type": "code",
   "execution_count": 423,
   "metadata": {},
   "outputs": [
    {
     "data": {
      "text/plain": [
       "1.3886982435674164"
      ]
     },
     "execution_count": 423,
     "metadata": {},
     "output_type": "execute_result"
    }
   ],
   "source": [
    "#RMSE is cost function a.k.a evaluates accuracy of results\n",
    "RMSE = np.mean(ft_residuals['Residuals - Least Squares'] ** 2) ** 0.5\n",
    "RMSE"
   ]
  },
  {
   "cell_type": "code",
   "execution_count": 424,
   "metadata": {},
   "outputs": [
    {
     "data": {
      "text/plain": [
       "1.3886982435674164"
      ]
     },
     "execution_count": 424,
     "metadata": {},
     "output_type": "execute_result"
    }
   ],
   "source": [
    "np.std(ft_residuals['Residuals - Least Squares'])"
   ]
  },
  {
   "cell_type": "markdown",
   "metadata": {},
   "source": [
    "## Nearest Neighbour tests"
   ]
  },
  {
   "cell_type": "code",
   "execution_count": 425,
   "metadata": {},
   "outputs": [
    {
     "data": {
      "text/plain": [
       "1.344595558509845"
      ]
     },
     "execution_count": 425,
     "metadata": {},
     "output_type": "execute_result"
    }
   ],
   "source": [
    "def nearest_neighbour(x_val):\n",
    "    neighbours = fish_toxicity[(fish_toxicity['X1-CIC0'] >= (x_val-0.25)) & (fish_toxicity['X1-CIC0'] <= (x_val+0.25))]\n",
    "    return np.mean(neighbours['Y-LC50'])\n",
    "\n",
    "#Residuals for Nearest Neighbour\n",
    "ft_residuals['Residuals - Nearest Neighbours'] = list(residuals_NN(fish_toxicity,'X1-CIC0','Y-LC50'))\n",
    "RMSE = np.mean(ft_residuals['Residuals - Nearest Neighbours'] ** 2) ** 0.5\n",
    "RMSE"
   ]
  },
  {
   "cell_type": "code",
   "execution_count": 426,
   "metadata": {},
   "outputs": [
    {
     "name": "stderr",
     "output_type": "stream",
     "text": [
      "<ipython-input-426-a5398f7949c1>:6: SettingWithCopyWarning: \n",
      "A value is trying to be set on a copy of a slice from a DataFrame.\n",
      "Try using .loc[row_indexer,col_indexer] = value instead\n",
      "\n",
      "See the caveats in the documentation: https://pandas.pydata.org/pandas-docs/stable/user_guide/indexing.html#returning-a-view-versus-a-copy\n",
      "  fish_toxicity['Y-LC50 - Nearest Neighbour X1-CIC0'] = np.array(list(nn_results))\n"
     ]
    },
    {
     "data": {
      "text/plain": [
       "1.33707599869043"
      ]
     },
     "execution_count": 426,
     "metadata": {},
     "output_type": "execute_result"
    }
   ],
   "source": [
    "def nearest_neighbour(x_val):\n",
    "    neighbours = fish_toxicity[(fish_toxicity['X1-CIC0'] >= (x_val-0.15)) & (fish_toxicity['X1-CIC0'] <= (x_val+0.15))]\n",
    "    return np.mean(neighbours['Y-LC50'])\n",
    "\n",
    "nn_results = map(nearest_neighbour, fish_toxicity['X1-CIC0'])\n",
    "fish_toxicity['Y-LC50 - Nearest Neighbour X1-CIC0'] = np.array(list(nn_results))\n",
    "\n",
    "#Residuals for Nearest Neighbour\n",
    "ft_residuals=fish_toxicity.copy()\n",
    "ft_residuals['Residuals - Nearest Neighbours'] = list(residuals_NN(fish_toxicity,'X1-CIC0','Y-LC50'))\n",
    "RMSE = np.mean(ft_residuals['Residuals - Nearest Neighbours'] ** 2) ** 0.5\n",
    "RMSE"
   ]
  },
  {
   "cell_type": "code",
   "execution_count": 427,
   "metadata": {},
   "outputs": [
    {
     "name": "stderr",
     "output_type": "stream",
     "text": [
      "<ipython-input-427-4cf5ff8f0a76>:6: SettingWithCopyWarning: \n",
      "A value is trying to be set on a copy of a slice from a DataFrame.\n",
      "Try using .loc[row_indexer,col_indexer] = value instead\n",
      "\n",
      "See the caveats in the documentation: https://pandas.pydata.org/pandas-docs/stable/user_guide/indexing.html#returning-a-view-versus-a-copy\n",
      "  fish_toxicity['Y-LC50 - Nearest Neighbour X1-CIC0'] = np.array(list(nn_results))\n"
     ]
    },
    {
     "data": {
      "text/plain": [
       "0.7990946622496785"
      ]
     },
     "execution_count": 427,
     "metadata": {},
     "output_type": "execute_result"
    }
   ],
   "source": [
    "def nearest_neighbour(x_val):\n",
    "    neighbours = fish_toxicity[(fish_toxicity['X1-CIC0'] >= (x_val-0.001)) & (fish_toxicity['X1-CIC0'] <= (x_val+0.001))]\n",
    "    return np.mean(neighbours['Y-LC50'])\n",
    "\n",
    "nn_results = map(nearest_neighbour, fish_toxicity['X1-CIC0'])\n",
    "fish_toxicity['Y-LC50 - Nearest Neighbour X1-CIC0'] = np.array(list(nn_results))\n",
    "\n",
    "#Residuals for Nearest Neighbour\n",
    "ft_residuals=fish_toxicity.copy()\n",
    "ft_residuals['Residuals - Nearest Neighbours'] = list(residuals_NN(fish_toxicity,'X1-CIC0','Y-LC50'))\n",
    "RMSE = np.mean(ft_residuals['Residuals - Nearest Neighbours'] ** 2) ** 0.5\n",
    "RMSE"
   ]
  },
  {
   "cell_type": "code",
   "execution_count": 348,
   "metadata": {},
   "outputs": [
    {
     "name": "stderr",
     "output_type": "stream",
     "text": [
      "<ipython-input-348-c9c7d7a9bf49>:6: SettingWithCopyWarning: \n",
      "A value is trying to be set on a copy of a slice from a DataFrame.\n",
      "Try using .loc[row_indexer,col_indexer] = value instead\n",
      "\n",
      "See the caveats in the documentation: https://pandas.pydata.org/pandas-docs/stable/user_guide/indexing.html#returning-a-view-versus-a-copy\n",
      "  fish_toxicity['Y-LC50 - Nearest Neighbour X1-CIC0'] = np.array(list(examp))\n"
     ]
    },
    {
     "data": {
      "text/plain": [
       "1.328145043307575"
      ]
     },
     "execution_count": 348,
     "metadata": {},
     "output_type": "execute_result"
    }
   ],
   "source": [
    "def nearest_neighbour(x_val):\n",
    "    neighbours = fish_toxicity[(fish_toxicity['X1-CIC0'] >= (x_val-0.05)) & (fish_toxicity['X1-CIC0'] <= (x_val+0.05))]\n",
    "    return np.mean(neighbours['Y-LC50'])\n",
    "\n",
    "examp = map(nearest_neighbour, fish_toxicity['X1-CIC0'])\n",
    "fish_toxicity['Y-LC50 - Nearest Neighbour X1-CIC0'] = np.array(list(examp))\n",
    "\n",
    "#Residuals for Nearest Neighbour\n",
    "ft_residuals=fish_toxicity.copy()\n",
    "ft_residuals['Residuals - Nearest Neighbours'] = list(residuals_NN(fish_toxicity,'X1-CIC0','Y-LC50'))\n",
    "RMSE = np.mean(ft_residuals['Residuals - Nearest Neighbours'] ** 2) ** 0.5\n",
    "RMSE"
   ]
  },
  {
   "cell_type": "code",
   "execution_count": 349,
   "metadata": {},
   "outputs": [
    {
     "name": "stderr",
     "output_type": "stream",
     "text": [
      "<ipython-input-349-41277364b846>:6: SettingWithCopyWarning: \n",
      "A value is trying to be set on a copy of a slice from a DataFrame.\n",
      "Try using .loc[row_indexer,col_indexer] = value instead\n",
      "\n",
      "See the caveats in the documentation: https://pandas.pydata.org/pandas-docs/stable/user_guide/indexing.html#returning-a-view-versus-a-copy\n",
      "  fish_toxicity['Y-LC50 - Nearest Neighbour X1-CIC0'] = np.array(list(nn_results))\n"
     ]
    },
    {
     "data": {
      "text/plain": [
       "0.695114834738583"
      ]
     },
     "execution_count": 349,
     "metadata": {},
     "output_type": "execute_result"
    }
   ],
   "source": [
    "def nearest_neighbour(x_val):\n",
    "    neighbours = fish_toxicity[(fish_toxicity['X1-CIC0'] >= (x_val)) & (fish_toxicity['X1-CIC0'] <= (x_val))]\n",
    "    return np.mean(neighbours['Y-LC50'])\n",
    "\n",
    "nn_results = map(nearest_neighbour, fish_toxicity['X1-CIC0'])\n",
    "fish_toxicity['Y-LC50 - Nearest Neighbour X1-CIC0'] = np.array(list(nn_results))\n",
    "\n",
    "#Residuals for Nearest Neighbour\n",
    "ft_residuals=fish_toxicity.copy()\n",
    "ft_residuals['Residuals - Nearest Neighbours'] = list(residuals_NN(fish_toxicity,'X1-CIC0','Y-LC50'))\n",
    "RMSE = np.mean(ft_residuals['Residuals - Nearest Neighbours'] ** 2) ** 0.5\n",
    "RMSE"
   ]
  },
  {
   "cell_type": "code",
   "execution_count": 390,
   "metadata": {},
   "outputs": [
    {
     "name": "stderr",
     "output_type": "stream",
     "text": [
      "<ipython-input-390-ab1fb33f2990>:6: SettingWithCopyWarning: \n",
      "A value is trying to be set on a copy of a slice from a DataFrame.\n",
      "Try using .loc[row_indexer,col_indexer] = value instead\n",
      "\n",
      "See the caveats in the documentation: https://pandas.pydata.org/pandas-docs/stable/user_guide/indexing.html#returning-a-view-versus-a-copy\n",
      "  fish_toxicity['Y-LC50 - Nearest Neighbour X1-CIC0'] = np.array(list(nn_results))\n"
     ]
    },
    {
     "data": {
      "text/plain": [
       "2.002683883294444"
      ]
     },
     "execution_count": 390,
     "metadata": {},
     "output_type": "execute_result"
    }
   ],
   "source": [
    "def nearest_neighbour(x_val):\n",
    "    neighbours = fish_toxicity[(fish_toxicity['X1-CIC0'] >= (x_val - 0.6)) & (fish_toxicity['X1-CIC0'] <= (x_val - 0.6))]\n",
    "    return np.mean(neighbours['Y-LC50'])\n",
    "\n",
    "nn_results = map(nearest_neighbour, fish_toxicity['X1-CIC0'])\n",
    "fish_toxicity['Y-LC50 - Nearest Neighbour X1-CIC0'] = np.array(list(nn_results))\n",
    "\n",
    "#Residuals for Nearest Neighbour\n",
    "ft_residuals=fish_toxicity.copy()\n",
    "ft_residuals['Residuals - Nearest Neighbours'] = list(residuals_NN(fish_toxicity,'X1-CIC0','Y-LC50'))\n",
    "RMSE = np.mean(ft_residuals['Residuals - Nearest Neighbours'] ** 2) ** 0.5\n",
    "RMSE"
   ]
  },
  {
   "cell_type": "code",
   "execution_count": 351,
   "metadata": {},
   "outputs": [
    {
     "name": "stderr",
     "output_type": "stream",
     "text": [
      "<ipython-input-351-bb29f9a9c4ef>:6: SettingWithCopyWarning: \n",
      "A value is trying to be set on a copy of a slice from a DataFrame.\n",
      "Try using .loc[row_indexer,col_indexer] = value instead\n",
      "\n",
      "See the caveats in the documentation: https://pandas.pydata.org/pandas-docs/stable/user_guide/indexing.html#returning-a-view-versus-a-copy\n",
      "  fish_toxicity['Y-LC50 - Nearest Neighbour X1-CIC0'] = np.array(list(examp))\n"
     ]
    },
    {
     "data": {
      "text/plain": [
       "1.2991426709010871"
      ]
     },
     "execution_count": 351,
     "metadata": {},
     "output_type": "execute_result"
    }
   ],
   "source": [
    "def nearest_neighbour(x_val):\n",
    "    neighbours = fish_toxicity[(fish_toxicity['X1-CIC0'] >= (x_val-0.03)) & (fish_toxicity['X1-CIC0'] <= (x_val+0.03))]\n",
    "    return np.mean(neighbours['Y-LC50'])\n",
    "\n",
    "examp = map(nearest_neighbour, fish_toxicity['X1-CIC0'])\n",
    "fish_toxicity['Y-LC50 - Nearest Neighbour X1-CIC0'] = np.array(list(examp))\n",
    "\n",
    "#Residuals for Nearest Neighbour\n",
    "ft_residuals=fish_toxicity.copy()\n",
    "ft_residuals['Residuals - Nearest Neighbours'] = list(residuals_NN(fish_toxicity,'X1-CIC0','Y-LC50'))\n",
    "RMSE = np.mean(ft_residuals['Residuals - Nearest Neighbours'] ** 2) ** 0.5\n",
    "RMSE"
   ]
  },
  {
   "cell_type": "code",
   "execution_count": 352,
   "metadata": {},
   "outputs": [
    {
     "name": "stderr",
     "output_type": "stream",
     "text": [
      "<ipython-input-352-6c3b45d53783>:6: SettingWithCopyWarning: \n",
      "A value is trying to be set on a copy of a slice from a DataFrame.\n",
      "Try using .loc[row_indexer,col_indexer] = value instead\n",
      "\n",
      "See the caveats in the documentation: https://pandas.pydata.org/pandas-docs/stable/user_guide/indexing.html#returning-a-view-versus-a-copy\n",
      "  fish_toxicity['Y-LC50 - Nearest Neighbour X1-CIC0'] = np.array(list(examp))\n"
     ]
    },
    {
     "data": {
      "text/plain": [
       "1.1844621276361893"
      ]
     },
     "execution_count": 352,
     "metadata": {},
     "output_type": "execute_result"
    }
   ],
   "source": [
    "def nearest_neighbour(x_val):\n",
    "    neighbours = fish_toxicity[(fish_toxicity['X1-CIC0'] >= (x_val-0.01)) & (fish_toxicity['X1-CIC0'] <= (x_val+0.01))]\n",
    "    return np.mean(neighbours['Y-LC50'])\n",
    "\n",
    "examp = map(nearest_neighbour, fish_toxicity['X1-CIC0'])\n",
    "fish_toxicity['Y-LC50 - Nearest Neighbour X1-CIC0'] = np.array(list(examp))\n",
    "\n",
    "#Residuals for Nearest Neighbour\n",
    "ft_residuals=fish_toxicity.copy()\n",
    "ft_residuals['Residuals - Nearest Neighbours'] = list(residuals_NN(fish_toxicity,'X1-CIC0','Y-LC50'))\n",
    "RMSE = np.mean(ft_residuals['Residuals - Nearest Neighbours'] ** 2) ** 0.5\n",
    "RMSE"
   ]
  },
  {
   "cell_type": "code",
   "execution_count": 353,
   "metadata": {},
   "outputs": [
    {
     "name": "stderr",
     "output_type": "stream",
     "text": [
      "<ipython-input-353-78b805f76bfd>:6: SettingWithCopyWarning: \n",
      "A value is trying to be set on a copy of a slice from a DataFrame.\n",
      "Try using .loc[row_indexer,col_indexer] = value instead\n",
      "\n",
      "See the caveats in the documentation: https://pandas.pydata.org/pandas-docs/stable/user_guide/indexing.html#returning-a-view-versus-a-copy\n",
      "  fish_toxicity['Y-LC50 - Nearest Neighbour X1-CIC0'] = np.array(list(examp))\n"
     ]
    },
    {
     "data": {
      "text/plain": [
       "1.0643579856848473"
      ]
     },
     "execution_count": 353,
     "metadata": {},
     "output_type": "execute_result"
    }
   ],
   "source": [
    "def nearest_neighbour(x_val):\n",
    "    neighbours = fish_toxicity[(fish_toxicity['X1-CIC0'] >= (x_val-0.005)) & (fish_toxicity['X1-CIC0'] <= (x_val+0.005))]\n",
    "    return np.mean(neighbours['Y-LC50'])\n",
    "\n",
    "examp = map(nearest_neighbour, fish_toxicity['X1-CIC0'])\n",
    "fish_toxicity['Y-LC50 - Nearest Neighbour X1-CIC0'] = np.array(list(examp))\n",
    "\n",
    "#Residuals for Nearest Neighbour\n",
    "ft_residuals=fish_toxicity.copy()\n",
    "ft_residuals['Residuals - Nearest Neighbours'] = list(residuals_NN(fish_toxicity,'X1-CIC0','Y-LC50'))\n",
    "RMSE = np.mean(ft_residuals['Residuals - Nearest Neighbours'] ** 2) ** 0.5\n",
    "RMSE"
   ]
  },
  {
   "cell_type": "code",
   "execution_count": 354,
   "metadata": {},
   "outputs": [
    {
     "name": "stderr",
     "output_type": "stream",
     "text": [
      "<ipython-input-354-042efa07564e>:6: SettingWithCopyWarning: \n",
      "A value is trying to be set on a copy of a slice from a DataFrame.\n",
      "Try using .loc[row_indexer,col_indexer] = value instead\n",
      "\n",
      "See the caveats in the documentation: https://pandas.pydata.org/pandas-docs/stable/user_guide/indexing.html#returning-a-view-versus-a-copy\n",
      "  fish_toxicity['Y-LC50 - Nearest Neighbour X1-CIC0'] = np.array(list(examp))\n"
     ]
    },
    {
     "data": {
      "text/plain": [
       "0.882043548827364"
      ]
     },
     "execution_count": 354,
     "metadata": {},
     "output_type": "execute_result"
    }
   ],
   "source": [
    "def nearest_neighbour(x_val):\n",
    "    neighbours = fish_toxicity[(fish_toxicity['X1-CIC0'] >= (x_val-0.002)) & (fish_toxicity['X1-CIC0'] <= (x_val+0.002))]\n",
    "    return np.mean(neighbours['Y-LC50'])\n",
    "\n",
    "examp = map(nearest_neighbour, fish_toxicity['X1-CIC0'])\n",
    "fish_toxicity['Y-LC50 - Nearest Neighbour X1-CIC0'] = np.array(list(examp))\n",
    "\n",
    "#Residuals for Nearest Neighbour\n",
    "ft_residuals=fish_toxicity.copy()\n",
    "ft_residuals['Residuals - Nearest Neighbours'] = list(residuals_NN(fish_toxicity,'X1-CIC0','Y-LC50'))\n",
    "RMSE = np.mean(ft_residuals['Residuals - Nearest Neighbours'] ** 2) ** 0.5\n",
    "RMSE"
   ]
  },
  {
   "cell_type": "code",
   "execution_count": 355,
   "metadata": {},
   "outputs": [
    {
     "name": "stderr",
     "output_type": "stream",
     "text": [
      "<ipython-input-355-d993dd19759d>:6: SettingWithCopyWarning: \n",
      "A value is trying to be set on a copy of a slice from a DataFrame.\n",
      "Try using .loc[row_indexer,col_indexer] = value instead\n",
      "\n",
      "See the caveats in the documentation: https://pandas.pydata.org/pandas-docs/stable/user_guide/indexing.html#returning-a-view-versus-a-copy\n",
      "  fish_toxicity['Y-LC50 - Nearest Neighbour X1-CIC0'] = np.array(list(examp))\n"
     ]
    },
    {
     "data": {
      "text/plain": [
       "0.9838766492763217"
      ]
     },
     "execution_count": 355,
     "metadata": {},
     "output_type": "execute_result"
    }
   ],
   "source": [
    "def nearest_neighbour(x_val):\n",
    "    neighbours = fish_toxicity[(fish_toxicity['X1-CIC0'] >= (x_val-0.003)) & (fish_toxicity['X1-CIC0'] <= (x_val+0.003))]\n",
    "    return np.mean(neighbours['Y-LC50'])\n",
    "\n",
    "examp = map(nearest_neighbour, fish_toxicity['X1-CIC0'])\n",
    "fish_toxicity['Y-LC50 - Nearest Neighbour X1-CIC0'] = np.array(list(examp))\n",
    "\n",
    "#Residuals for Nearest Neighbour\n",
    "ft_residuals=fish_toxicity.copy()\n",
    "ft_residuals['Residuals - Nearest Neighbours'] = list(residuals_NN(fish_toxicity,'X1-CIC0','Y-LC50'))\n",
    "RMSE = np.mean(ft_residuals['Residuals - Nearest Neighbours'] ** 2) ** 0.5\n",
    "RMSE"
   ]
  },
  {
   "cell_type": "code",
   "execution_count": 356,
   "metadata": {},
   "outputs": [
    {
     "name": "stderr",
     "output_type": "stream",
     "text": [
      "<ipython-input-356-aceceb312f37>:6: SettingWithCopyWarning: \n",
      "A value is trying to be set on a copy of a slice from a DataFrame.\n",
      "Try using .loc[row_indexer,col_indexer] = value instead\n",
      "\n",
      "See the caveats in the documentation: https://pandas.pydata.org/pandas-docs/stable/user_guide/indexing.html#returning-a-view-versus-a-copy\n",
      "  fish_toxicity['Y-LC50 - Nearest Neighbour X1-CIC0'] = np.array(list(examp))\n"
     ]
    },
    {
     "data": {
      "text/plain": [
       "1.0292083443330518"
      ]
     },
     "execution_count": 356,
     "metadata": {},
     "output_type": "execute_result"
    }
   ],
   "source": [
    "def nearest_neighbour(x_val):\n",
    "    neighbours = fish_toxicity[(fish_toxicity['X1-CIC0'] >= (x_val-0.004)) & (fish_toxicity['X1-CIC0'] <= (x_val+0.004))]\n",
    "    return np.mean(neighbours['Y-LC50'])\n",
    "\n",
    "examp = map(nearest_neighbour, fish_toxicity['X1-CIC0'])\n",
    "fish_toxicity['Y-LC50 - Nearest Neighbour X1-CIC0'] = np.array(list(examp))\n",
    "\n",
    "#Residuals for Nearest Neighbour\n",
    "ft_residuals=fish_toxicity.copy()\n",
    "ft_residuals['Residuals - Nearest Neighbours'] = list(residuals_NN(fish_toxicity,'X1-CIC0','Y-LC50'))\n",
    "RMSE = np.mean(ft_residuals['Residuals - Nearest Neighbours'] ** 2) ** 0.5\n",
    "RMSE"
   ]
  },
  {
   "cell_type": "code",
   "execution_count": 357,
   "metadata": {},
   "outputs": [
    {
     "name": "stderr",
     "output_type": "stream",
     "text": [
      "<ipython-input-357-8e72706e7c41>:6: SettingWithCopyWarning: \n",
      "A value is trying to be set on a copy of a slice from a DataFrame.\n",
      "Try using .loc[row_indexer,col_indexer] = value instead\n",
      "\n",
      "See the caveats in the documentation: https://pandas.pydata.org/pandas-docs/stable/user_guide/indexing.html#returning-a-view-versus-a-copy\n",
      "  fish_toxicity['Y-LC50 - Nearest Neighbour X1-CIC0'] = np.array(list(examp))\n"
     ]
    },
    {
     "data": {
      "text/plain": [
       "0.007889963497267852"
      ]
     },
     "execution_count": 357,
     "metadata": {},
     "output_type": "execute_result"
    }
   ],
   "source": [
    "def nearest_neighbour(x_val):\n",
    "    neighbours = fish_toxicity[(fish_toxicity['X1-CIC0'] >= (x_val-0.35)) & (fish_toxicity['X1-CIC0'] <= (x_val+0.35))]\n",
    "    return np.mean(neighbours['Y-LC50'])\n",
    "\n",
    "examp = map(nearest_neighbour, fish_toxicity['X1-CIC0'])\n",
    "fish_toxicity['Y-LC50 - Nearest Neighbour X1-CIC0'] = np.array(list(examp))\n",
    "\n",
    "#Residuals for Nearest Neighbour\n",
    "ft_residuals=fish_toxicity.copy()\n",
    "ft_residuals['Residuals - Nearest Neighbours'] = list(residuals_NN(fish_toxicity,'X1-CIC0','Y-LC50'))\n",
    "np.mean(ft_residuals['Residuals - Nearest Neighbours'])"
   ]
  },
  {
   "cell_type": "code",
   "execution_count": 358,
   "metadata": {},
   "outputs": [
    {
     "name": "stderr",
     "output_type": "stream",
     "text": [
      "<ipython-input-358-26eb497cac33>:6: SettingWithCopyWarning: \n",
      "A value is trying to be set on a copy of a slice from a DataFrame.\n",
      "Try using .loc[row_indexer,col_indexer] = value instead\n",
      "\n",
      "See the caveats in the documentation: https://pandas.pydata.org/pandas-docs/stable/user_guide/indexing.html#returning-a-view-versus-a-copy\n",
      "  fish_toxicity['Y-LC50 - Nearest Neighbour X1-CIC0'] = np.array(list(examp))\n"
     ]
    },
    {
     "data": {
      "text/plain": [
       "0.0014317103035018958"
      ]
     },
     "execution_count": 358,
     "metadata": {},
     "output_type": "execute_result"
    }
   ],
   "source": [
    "def nearest_neighbour(x_val):\n",
    "    neighbours = fish_toxicity[(fish_toxicity['X1-CIC0'] >= (x_val-0.3)) & (fish_toxicity['X1-CIC0'] <= (x_val+0.3))]\n",
    "    return np.mean(neighbours['Y-LC50'])\n",
    "\n",
    "examp = map(nearest_neighbour, fish_toxicity['X1-CIC0'])\n",
    "fish_toxicity['Y-LC50 - Nearest Neighbour X1-CIC0'] = np.array(list(examp))\n",
    "\n",
    "#Residuals for Nearest Neighbour\n",
    "ft_residuals=fish_toxicity.copy()\n",
    "ft_residuals['Residuals - Nearest Neighbours'] = list(residuals_NN(fish_toxicity,'X1-CIC0','Y-LC50'))\n",
    "np.mean(ft_residuals['Residuals - Nearest Neighbours'])"
   ]
  },
  {
   "cell_type": "markdown",
   "metadata": {},
   "source": [
    "## Scatter plots of Residuals and prediction lines"
   ]
  },
  {
   "cell_type": "code",
   "execution_count": 359,
   "metadata": {},
   "outputs": [
    {
     "data": {
      "text/plain": [
       "<AxesSubplot:xlabel='X1-CIC0', ylabel='Residuals - Nearest Neighbours'>"
      ]
     },
     "execution_count": 359,
     "metadata": {},
     "output_type": "execute_result"
    },
    {
     "data": {
      "image/png": "[encoded data removed]",
      "text/plain": [
       "<Figure size 432x288 with 1 Axes>"
      ]
     },
     "metadata": {},
     "output_type": "display_data"
    }
   ],
   "source": [
    "# Scatter plot of residuals\n",
    "ft_residuals.plot.scatter('X1-CIC0','Residuals - Nearest Neighbours', color='blue', label='Residuals')"
   ]
  },
  {
   "cell_type": "code",
   "execution_count": 428,
   "metadata": {},
   "outputs": [
    {
     "ename": "KeyError",
     "evalue": "'Residuals - Least Squares'",
     "output_type": "error",
     "traceback": [
      "\u001b[0;31m---------------------------------------------------------------------------\u001b[0m",
      "\u001b[0;31mKeyError\u001b[0m                                  Traceback (most recent call last)",
      "\u001b[0;32m~/opt/anaconda3/lib/python3.8/site-packages/pandas/core/indexes/base.py\u001b[0m in \u001b[0;36mget_loc\u001b[0;34m(self, key, method, tolerance)\u001b[0m\n\u001b[1;32m   2894\u001b[0m             \u001b[0;32mtry\u001b[0m\u001b[0;34m:\u001b[0m\u001b[0;34m\u001b[0m\u001b[0;34m\u001b[0m\u001b[0m\n\u001b[0;32m-> 2895\u001b[0;31m                 \u001b[0;32mreturn\u001b[0m \u001b[0mself\u001b[0m\u001b[0;34m.\u001b[0m\u001b[0m_engine\u001b[0m\u001b[0;34m.\u001b[0m\u001b[0mget_loc\u001b[0m\u001b[0;34m(\u001b[0m\u001b[0mcasted_key\u001b[0m\u001b[0;34m)\u001b[0m\u001b[0;34m\u001b[0m\u001b[0;34m\u001b[0m\u001b[0m\n\u001b[0m\u001b[1;32m   2896\u001b[0m             \u001b[0;32mexcept\u001b[0m \u001b[0mKeyError\u001b[0m \u001b[0;32mas\u001b[0m \u001b[0merr\u001b[0m\u001b[0;34m:\u001b[0m\u001b[0;34m\u001b[0m\u001b[0;34m\u001b[0m\u001b[0m\n",
      "\u001b[0;32mpandas/_libs/index.pyx\u001b[0m in \u001b[0;36mpandas._libs.index.IndexEngine.get_loc\u001b[0;34m()\u001b[0m\n",
      "\u001b[0;32mpandas/_libs/index.pyx\u001b[0m in \u001b[0;36mpandas._libs.index.IndexEngine.get_loc\u001b[0;34m()\u001b[0m\n",
      "\u001b[0;32mpandas/_libs/hashtable_class_helper.pxi\u001b[0m in \u001b[0;36mpandas._libs.hashtable.PyObjectHashTable.get_item\u001b[0;34m()\u001b[0m\n",
      "\u001b[0;32mpandas/_libs/hashtable_class_helper.pxi\u001b[0m in \u001b[0;36mpandas._libs.hashtable.PyObjectHashTable.get_item\u001b[0;34m()\u001b[0m\n",
      "\u001b[0;31mKeyError\u001b[0m: 'Residuals - Least Squares'",
      "\nThe above exception was the direct cause of the following exception:\n",
      "\u001b[0;31mKeyError\u001b[0m                                  Traceback (most recent call last)",
      "\u001b[0;32m<ipython-input-428-09173e408ce3>\u001b[0m in \u001b[0;36m<module>\u001b[0;34m\u001b[0m\n\u001b[0;32m----> 1\u001b[0;31m \u001b[0mft_residuals\u001b[0m\u001b[0;34m.\u001b[0m\u001b[0mplot\u001b[0m\u001b[0;34m.\u001b[0m\u001b[0mscatter\u001b[0m\u001b[0;34m(\u001b[0m\u001b[0;34m'X1-CIC0'\u001b[0m\u001b[0;34m,\u001b[0m\u001b[0;34m'Residuals - Least Squares'\u001b[0m\u001b[0;34m,\u001b[0m \u001b[0mcolor\u001b[0m\u001b[0;34m=\u001b[0m\u001b[0;34m'blue'\u001b[0m\u001b[0;34m,\u001b[0m \u001b[0mlabel\u001b[0m\u001b[0;34m=\u001b[0m\u001b[0;34m'Residuals'\u001b[0m\u001b[0;34m)\u001b[0m\u001b[0;34m\u001b[0m\u001b[0;34m\u001b[0m\u001b[0m\n\u001b[0m",
      "\u001b[0;32m~/opt/anaconda3/lib/python3.8/site-packages/pandas/plotting/_core.py\u001b[0m in \u001b[0;36mscatter\u001b[0;34m(self, x, y, s, c, **kwargs)\u001b[0m\n\u001b[1;32m   1611\u001b[0m             ...                       colormap='viridis')\n\u001b[1;32m   1612\u001b[0m         \"\"\"\n\u001b[0;32m-> 1613\u001b[0;31m         \u001b[0;32mreturn\u001b[0m \u001b[0mself\u001b[0m\u001b[0;34m(\u001b[0m\u001b[0mkind\u001b[0m\u001b[0;34m=\u001b[0m\u001b[0;34m\"scatter\"\u001b[0m\u001b[0;34m,\u001b[0m \u001b[0mx\u001b[0m\u001b[0;34m=\u001b[0m\u001b[0mx\u001b[0m\u001b[0;34m,\u001b[0m \u001b[0my\u001b[0m\u001b[0;34m=\u001b[0m\u001b[0my\u001b[0m\u001b[0;34m,\u001b[0m \u001b[0ms\u001b[0m\u001b[0;34m=\u001b[0m\u001b[0ms\u001b[0m\u001b[0;34m,\u001b[0m \u001b[0mc\u001b[0m\u001b[0;34m=\u001b[0m\u001b[0mc\u001b[0m\u001b[0;34m,\u001b[0m \u001b[0;34m**\u001b[0m\u001b[0mkwargs\u001b[0m\u001b[0;34m)\u001b[0m\u001b[0;34m\u001b[0m\u001b[0;34m\u001b[0m\u001b[0m\n\u001b[0m\u001b[1;32m   1614\u001b[0m \u001b[0;34m\u001b[0m\u001b[0m\n\u001b[1;32m   1615\u001b[0m     \u001b[0;32mdef\u001b[0m \u001b[0mhexbin\u001b[0m\u001b[0;34m(\u001b[0m\u001b[0mself\u001b[0m\u001b[0;34m,\u001b[0m \u001b[0mx\u001b[0m\u001b[0;34m,\u001b[0m \u001b[0my\u001b[0m\u001b[0;34m,\u001b[0m \u001b[0mC\u001b[0m\u001b[0;34m=\u001b[0m\u001b[0;32mNone\u001b[0m\u001b[0;34m,\u001b[0m \u001b[0mreduce_C_function\u001b[0m\u001b[0;34m=\u001b[0m\u001b[0;32mNone\u001b[0m\u001b[0;34m,\u001b[0m \u001b[0mgridsize\u001b[0m\u001b[0;34m=\u001b[0m\u001b[0;32mNone\u001b[0m\u001b[0;34m,\u001b[0m \u001b[0;34m**\u001b[0m\u001b[0mkwargs\u001b[0m\u001b[0;34m)\u001b[0m\u001b[0;34m:\u001b[0m\u001b[0;34m\u001b[0m\u001b[0;34m\u001b[0m\u001b[0m\n",
      "\u001b[0;32m~/opt/anaconda3/lib/python3.8/site-packages/pandas/plotting/_core.py\u001b[0m in \u001b[0;36m__call__\u001b[0;34m(self, *args, **kwargs)\u001b[0m\n\u001b[1;32m    892\u001b[0m         \u001b[0;32mif\u001b[0m \u001b[0mkind\u001b[0m \u001b[0;32min\u001b[0m \u001b[0mself\u001b[0m\u001b[0;34m.\u001b[0m\u001b[0m_dataframe_kinds\u001b[0m\u001b[0;34m:\u001b[0m\u001b[0;34m\u001b[0m\u001b[0;34m\u001b[0m\u001b[0m\n\u001b[1;32m    893\u001b[0m             \u001b[0;32mif\u001b[0m \u001b[0misinstance\u001b[0m\u001b[0;34m(\u001b[0m\u001b[0mdata\u001b[0m\u001b[0;34m,\u001b[0m \u001b[0mABCDataFrame\u001b[0m\u001b[0;34m)\u001b[0m\u001b[0;34m:\u001b[0m\u001b[0;34m\u001b[0m\u001b[0;34m\u001b[0m\u001b[0m\n\u001b[0;32m--> 894\u001b[0;31m                 \u001b[0;32mreturn\u001b[0m \u001b[0mplot_backend\u001b[0m\u001b[0;34m.\u001b[0m\u001b[0mplot\u001b[0m\u001b[0;34m(\u001b[0m\u001b[0mdata\u001b[0m\u001b[0;34m,\u001b[0m \u001b[0mx\u001b[0m\u001b[0;34m=\u001b[0m\u001b[0mx\u001b[0m\u001b[0;34m,\u001b[0m \u001b[0my\u001b[0m\u001b[0;34m=\u001b[0m\u001b[0my\u001b[0m\u001b[0;34m,\u001b[0m \u001b[0mkind\u001b[0m\u001b[0;34m=\u001b[0m\u001b[0mkind\u001b[0m\u001b[0;34m,\u001b[0m \u001b[0;34m**\u001b[0m\u001b[0mkwargs\u001b[0m\u001b[0;34m)\u001b[0m\u001b[0;34m\u001b[0m\u001b[0;34m\u001b[0m\u001b[0m\n\u001b[0m\u001b[1;32m    895\u001b[0m             \u001b[0;32melse\u001b[0m\u001b[0;34m:\u001b[0m\u001b[0;34m\u001b[0m\u001b[0;34m\u001b[0m\u001b[0m\n\u001b[1;32m    896\u001b[0m                 \u001b[0;32mraise\u001b[0m \u001b[0mValueError\u001b[0m\u001b[0;34m(\u001b[0m\u001b[0;34mf\"plot kind {kind} can only be used for data frames\"\u001b[0m\u001b[0;34m)\u001b[0m\u001b[0;34m\u001b[0m\u001b[0;34m\u001b[0m\u001b[0m\n",
      "\u001b[0;32m~/opt/anaconda3/lib/python3.8/site-packages/pandas/plotting/_matplotlib/__init__.py\u001b[0m in \u001b[0;36mplot\u001b[0;34m(data, kind, **kwargs)\u001b[0m\n\u001b[1;32m     59\u001b[0m             \u001b[0mkwargs\u001b[0m\u001b[0;34m[\u001b[0m\u001b[0;34m\"ax\"\u001b[0m\u001b[0;34m]\u001b[0m \u001b[0;34m=\u001b[0m \u001b[0mgetattr\u001b[0m\u001b[0;34m(\u001b[0m\u001b[0max\u001b[0m\u001b[0;34m,\u001b[0m \u001b[0;34m\"left_ax\"\u001b[0m\u001b[0;34m,\u001b[0m \u001b[0max\u001b[0m\u001b[0;34m)\u001b[0m\u001b[0;34m\u001b[0m\u001b[0;34m\u001b[0m\u001b[0m\n\u001b[1;32m     60\u001b[0m     \u001b[0mplot_obj\u001b[0m \u001b[0;34m=\u001b[0m \u001b[0mPLOT_CLASSES\u001b[0m\u001b[0;34m[\u001b[0m\u001b[0mkind\u001b[0m\u001b[0;34m]\u001b[0m\u001b[0;34m(\u001b[0m\u001b[0mdata\u001b[0m\u001b[0;34m,\u001b[0m \u001b[0;34m**\u001b[0m\u001b[0mkwargs\u001b[0m\u001b[0;34m)\u001b[0m\u001b[0;34m\u001b[0m\u001b[0;34m\u001b[0m\u001b[0m\n\u001b[0;32m---> 61\u001b[0;31m     \u001b[0mplot_obj\u001b[0m\u001b[0;34m.\u001b[0m\u001b[0mgenerate\u001b[0m\u001b[0;34m(\u001b[0m\u001b[0;34m)\u001b[0m\u001b[0;34m\u001b[0m\u001b[0;34m\u001b[0m\u001b[0m\n\u001b[0m\u001b[1;32m     62\u001b[0m     \u001b[0mplot_obj\u001b[0m\u001b[0;34m.\u001b[0m\u001b[0mdraw\u001b[0m\u001b[0;34m(\u001b[0m\u001b[0;34m)\u001b[0m\u001b[0;34m\u001b[0m\u001b[0;34m\u001b[0m\u001b[0m\n\u001b[1;32m     63\u001b[0m     \u001b[0;32mreturn\u001b[0m \u001b[0mplot_obj\u001b[0m\u001b[0;34m.\u001b[0m\u001b[0mresult\u001b[0m\u001b[0;34m\u001b[0m\u001b[0;34m\u001b[0m\u001b[0m\n",
      "\u001b[0;32m~/opt/anaconda3/lib/python3.8/site-packages/pandas/plotting/_matplotlib/core.py\u001b[0m in \u001b[0;36mgenerate\u001b[0;34m(self)\u001b[0m\n\u001b[1;32m    269\u001b[0m         \u001b[0mself\u001b[0m\u001b[0;34m.\u001b[0m\u001b[0m_compute_plot_data\u001b[0m\u001b[0;34m(\u001b[0m\u001b[0;34m)\u001b[0m\u001b[0;34m\u001b[0m\u001b[0;34m\u001b[0m\u001b[0m\n\u001b[1;32m    270\u001b[0m         \u001b[0mself\u001b[0m\u001b[0;34m.\u001b[0m\u001b[0m_setup_subplots\u001b[0m\u001b[0;34m(\u001b[0m\u001b[0;34m)\u001b[0m\u001b[0;34m\u001b[0m\u001b[0;34m\u001b[0m\u001b[0m\n\u001b[0;32m--> 271\u001b[0;31m         \u001b[0mself\u001b[0m\u001b[0;34m.\u001b[0m\u001b[0m_make_plot\u001b[0m\u001b[0;34m(\u001b[0m\u001b[0;34m)\u001b[0m\u001b[0;34m\u001b[0m\u001b[0;34m\u001b[0m\u001b[0m\n\u001b[0m\u001b[1;32m    272\u001b[0m         \u001b[0mself\u001b[0m\u001b[0;34m.\u001b[0m\u001b[0m_add_table\u001b[0m\u001b[0;34m(\u001b[0m\u001b[0;34m)\u001b[0m\u001b[0;34m\u001b[0m\u001b[0;34m\u001b[0m\u001b[0m\n\u001b[1;32m    273\u001b[0m         \u001b[0mself\u001b[0m\u001b[0;34m.\u001b[0m\u001b[0m_make_legend\u001b[0m\u001b[0;34m(\u001b[0m\u001b[0;34m)\u001b[0m\u001b[0;34m\u001b[0m\u001b[0;34m\u001b[0m\u001b[0m\n",
      "\u001b[0;32m~/opt/anaconda3/lib/python3.8/site-packages/pandas/plotting/_matplotlib/core.py\u001b[0m in \u001b[0;36m_make_plot\u001b[0;34m(self)\u001b[0m\n\u001b[1;32m   1010\u001b[0m         scatter = ax.scatter(\n\u001b[1;32m   1011\u001b[0m             \u001b[0mdata\u001b[0m\u001b[0;34m[\u001b[0m\u001b[0mx\u001b[0m\u001b[0;34m]\u001b[0m\u001b[0;34m.\u001b[0m\u001b[0mvalues\u001b[0m\u001b[0;34m,\u001b[0m\u001b[0;34m\u001b[0m\u001b[0;34m\u001b[0m\u001b[0m\n\u001b[0;32m-> 1012\u001b[0;31m             \u001b[0mdata\u001b[0m\u001b[0;34m[\u001b[0m\u001b[0my\u001b[0m\u001b[0;34m]\u001b[0m\u001b[0;34m.\u001b[0m\u001b[0mvalues\u001b[0m\u001b[0;34m,\u001b[0m\u001b[0;34m\u001b[0m\u001b[0;34m\u001b[0m\u001b[0m\n\u001b[0m\u001b[1;32m   1013\u001b[0m             \u001b[0mc\u001b[0m\u001b[0;34m=\u001b[0m\u001b[0mc_values\u001b[0m\u001b[0;34m,\u001b[0m\u001b[0;34m\u001b[0m\u001b[0;34m\u001b[0m\u001b[0m\n\u001b[1;32m   1014\u001b[0m             \u001b[0mlabel\u001b[0m\u001b[0;34m=\u001b[0m\u001b[0mlabel\u001b[0m\u001b[0;34m,\u001b[0m\u001b[0;34m\u001b[0m\u001b[0;34m\u001b[0m\u001b[0m\n",
      "\u001b[0;32m~/opt/anaconda3/lib/python3.8/site-packages/pandas/core/frame.py\u001b[0m in \u001b[0;36m__getitem__\u001b[0;34m(self, key)\u001b[0m\n\u001b[1;32m   2900\u001b[0m             \u001b[0;32mif\u001b[0m \u001b[0mself\u001b[0m\u001b[0;34m.\u001b[0m\u001b[0mcolumns\u001b[0m\u001b[0;34m.\u001b[0m\u001b[0mnlevels\u001b[0m \u001b[0;34m>\u001b[0m \u001b[0;36m1\u001b[0m\u001b[0;34m:\u001b[0m\u001b[0;34m\u001b[0m\u001b[0;34m\u001b[0m\u001b[0m\n\u001b[1;32m   2901\u001b[0m                 \u001b[0;32mreturn\u001b[0m \u001b[0mself\u001b[0m\u001b[0;34m.\u001b[0m\u001b[0m_getitem_multilevel\u001b[0m\u001b[0;34m(\u001b[0m\u001b[0mkey\u001b[0m\u001b[0;34m)\u001b[0m\u001b[0;34m\u001b[0m\u001b[0;34m\u001b[0m\u001b[0m\n\u001b[0;32m-> 2902\u001b[0;31m             \u001b[0mindexer\u001b[0m \u001b[0;34m=\u001b[0m \u001b[0mself\u001b[0m\u001b[0;34m.\u001b[0m\u001b[0mcolumns\u001b[0m\u001b[0;34m.\u001b[0m\u001b[0mget_loc\u001b[0m\u001b[0;34m(\u001b[0m\u001b[0mkey\u001b[0m\u001b[0;34m)\u001b[0m\u001b[0;34m\u001b[0m\u001b[0;34m\u001b[0m\u001b[0m\n\u001b[0m\u001b[1;32m   2903\u001b[0m             \u001b[0;32mif\u001b[0m \u001b[0mis_integer\u001b[0m\u001b[0;34m(\u001b[0m\u001b[0mindexer\u001b[0m\u001b[0;34m)\u001b[0m\u001b[0;34m:\u001b[0m\u001b[0;34m\u001b[0m\u001b[0;34m\u001b[0m\u001b[0m\n\u001b[1;32m   2904\u001b[0m                 \u001b[0mindexer\u001b[0m \u001b[0;34m=\u001b[0m \u001b[0;34m[\u001b[0m\u001b[0mindexer\u001b[0m\u001b[0;34m]\u001b[0m\u001b[0;34m\u001b[0m\u001b[0;34m\u001b[0m\u001b[0m\n",
      "\u001b[0;32m~/opt/anaconda3/lib/python3.8/site-packages/pandas/core/indexes/base.py\u001b[0m in \u001b[0;36mget_loc\u001b[0;34m(self, key, method, tolerance)\u001b[0m\n\u001b[1;32m   2895\u001b[0m                 \u001b[0;32mreturn\u001b[0m \u001b[0mself\u001b[0m\u001b[0;34m.\u001b[0m\u001b[0m_engine\u001b[0m\u001b[0;34m.\u001b[0m\u001b[0mget_loc\u001b[0m\u001b[0;34m(\u001b[0m\u001b[0mcasted_key\u001b[0m\u001b[0;34m)\u001b[0m\u001b[0;34m\u001b[0m\u001b[0;34m\u001b[0m\u001b[0m\n\u001b[1;32m   2896\u001b[0m             \u001b[0;32mexcept\u001b[0m \u001b[0mKeyError\u001b[0m \u001b[0;32mas\u001b[0m \u001b[0merr\u001b[0m\u001b[0;34m:\u001b[0m\u001b[0;34m\u001b[0m\u001b[0;34m\u001b[0m\u001b[0m\n\u001b[0;32m-> 2897\u001b[0;31m                 \u001b[0;32mraise\u001b[0m \u001b[0mKeyError\u001b[0m\u001b[0;34m(\u001b[0m\u001b[0mkey\u001b[0m\u001b[0;34m)\u001b[0m \u001b[0;32mfrom\u001b[0m \u001b[0merr\u001b[0m\u001b[0;34m\u001b[0m\u001b[0;34m\u001b[0m\u001b[0m\n\u001b[0m\u001b[1;32m   2898\u001b[0m \u001b[0;34m\u001b[0m\u001b[0m\n\u001b[1;32m   2899\u001b[0m         \u001b[0;32mif\u001b[0m \u001b[0mtolerance\u001b[0m \u001b[0;32mis\u001b[0m \u001b[0;32mnot\u001b[0m \u001b[0;32mNone\u001b[0m\u001b[0;34m:\u001b[0m\u001b[0;34m\u001b[0m\u001b[0;34m\u001b[0m\u001b[0m\n",
      "\u001b[0;31mKeyError\u001b[0m: 'Residuals - Least Squares'"
     ]
    },
    {
     "data": {
      "image/png": "[encoded data removed]",
      "text/plain": [
       "<Figure size 432x288 with 1 Axes>"
      ]
     },
     "metadata": {},
     "output_type": "display_data"
    }
   ],
   "source": [
    "ft_residuals.plot.scatter('X1-CIC0','Residuals - Least Squares', color='blue', label='Residuals')"
   ]
  },
  {
   "cell_type": "code",
   "execution_count": null,
   "metadata": {},
   "outputs": [],
   "source": [
    "# Nearest Neighbour Predictions\n",
    "ax = fish_toxicity.plot.scatter('X1-CIC0', 'Y-LC50', color='blue', label='y')\n",
    "fish_toxicity.plot.scatter('X1-CIC0', 'Y-LC50 - Nearest Neighbour X1-CIC0', color='LightGreen', label='Nearest Neighbour', ax=ax)"
   ]
  },
  {
   "cell_type": "code",
   "execution_count": 336,
   "metadata": {},
   "outputs": [
    {
     "data": {
      "text/plain": [
       "<AxesSubplot:xlabel='X1-CIC0', ylabel='Y-LC50 - Least Squares X1-CIC0'>"
      ]
     },
     "execution_count": 336,
     "metadata": {},
     "output_type": "execute_result"
    },
    {
     "data": {
      "image/png": "[encoded data removed]",
      "text/plain": [
       "<Figure size 432x288 with 1 Axes>"
      ]
     },
     "metadata": {},
     "output_type": "display_data"
    }
   ],
   "source": [
    "ax = fish_toxicity.plot.scatter('X1-CIC0', 'Y-LC50', color='blue', label='y')\n",
    "fish_toxicity.plot.scatter('X1-CIC0', 'Y-LC50 - Least Squares X1-CIC0', color='LightGreen', label='Nearest Neighbour', ax=ax)"
   ]
  },
  {
   "cell_type": "code",
   "execution_count": 337,
   "metadata": {},
   "outputs": [
    {
     "data": {
      "text/plain": [
       "X1-CIC0                               2.899714e+00\n",
       "X2-SM1_Dz(Z)                          6.286221e-01\n",
       "X3-GATS1i                             1.293528e+00\n",
       "X4-NdsCH                              2.298343e-01\n",
       "X5-NdssC                              4.872928e-01\n",
       "X6-MLOGP                              2.108024e+00\n",
       "Y-LC50                                4.061402e+00\n",
       "Y-LC50 - Least Squares X1-CIC0        4.061402e+00\n",
       "Y-LC50 - Nearest Neighbour X1-CIC0    4.062327e+00\n",
       "Residuals - Nearest Neighbours       -9.252048e-04\n",
       "Residuals - Least Squares            -5.976803e-16\n",
       "dtype: float64"
      ]
     },
     "execution_count": 337,
     "metadata": {},
     "output_type": "execute_result"
    }
   ],
   "source": [
    "# Demo of residual properties\n",
    "np.mean(ft_residuals)"
   ]
  },
  {
   "cell_type": "code",
   "execution_count": 338,
   "metadata": {},
   "outputs": [
    {
     "data": {
      "text/plain": [
       "0.5897472584353254"
      ]
     },
     "execution_count": 338,
     "metadata": {},
     "output_type": "execute_result"
    }
   ],
   "source": [
    "slopes = slope(fish_toxicity,'X1-CIC0','Y-LC50')\n",
    "slopes"
   ]
  },
  {
   "cell_type": "code",
   "execution_count": 339,
   "metadata": {},
   "outputs": [
    {
     "data": {
      "text/plain": [
       "2.351303938979474"
      ]
     },
     "execution_count": 339,
     "metadata": {},
     "output_type": "execute_result"
    }
   ],
   "source": [
    "intercepts = intercept(fish_toxicity,'X1-CIC0','Y-LC50')\n",
    "intercepts"
   ]
  },
  {
   "cell_type": "code",
   "execution_count": 340,
   "metadata": {},
   "outputs": [
    {
     "data": {
      "text/plain": [
       "1.3886982435674164"
      ]
     },
     "execution_count": 340,
     "metadata": {},
     "output_type": "execute_result"
    }
   ],
   "source": [
    "def fish_rmse(any_slope, any_intercept):\n",
    "    x = fish_toxicity['X1-CIC0']\n",
    "    y = fish_toxicity['Y-LC50']\n",
    "    estimate = any_slope*x + any_intercept\n",
    "    return (np.mean((y - estimate) ** 2)) ** 0.5\n",
    "\n",
    "fish_slope = slope(fish_toxicity,'X1-CIC0','Y-LC50')\n",
    "fish_intercept = intercept(fish_toxicity,'X1-CIC0','Y-LC50')\n",
    "result = fish_rmse(fish_slope, fish_intercept)\n",
    "result"
   ]
  },
  {
   "cell_type": "code",
   "execution_count": 143,
   "metadata": {},
   "outputs": [
    {
     "data": {
      "text/plain": [
       "1.0292083443330518"
      ]
     },
     "execution_count": 143,
     "metadata": {},
     "output_type": "execute_result"
    }
   ],
   "source": [
    "RMSE = np.mean(ft_residuals['Residuals - Nearest Neighbours'] ** 2) ** 0.5\n",
    "RMSE"
   ]
  },
  {
   "cell_type": "code",
   "execution_count": 144,
   "metadata": {},
   "outputs": [
    {
     "data": {
      "text/plain": [
       "1.3886982435674164"
      ]
     },
     "execution_count": 144,
     "metadata": {},
     "output_type": "execute_result"
    }
   ],
   "source": [
    "RMSE = np.mean(ft_residuals['Residuals - Least Squares'] ** 2) ** 0.5\n",
    "RMSE"
   ]
  },
  {
   "cell_type": "markdown",
   "metadata": {},
   "source": [
    "# Part 1d: Multiple Regression"
   ]
  },
  {
   "cell_type": "markdown",
   "metadata": {},
   "source": [
    "## K Nearest Neighbour"
   ]
  },
  {
   "cell_type": "code",
   "execution_count": 430,
   "metadata": {},
   "outputs": [],
   "source": [
    "#returns euclidean distance between two points\n",
    "def euclidean_distance(x1, x2):\n",
    "    return np.sqrt(sum((x1 - x2)**2))\n",
    "\n",
    "#returns new df of all distances from all x inputs, and target being the dependent variable\n",
    "def distances(training, example,target):\n",
    "    distances = np.array([])\n",
    "    x_values = training.copy().drop(columns=[target])\n",
    "    #adds all distances to array\n",
    "    for row in np.arange(len(x_values)):\n",
    "        distances = np.append(distances, euclidean_distance(x_values.iloc[row,:], example))\n",
    "\n",
    "    training['Distance_to_ex'] = distances\n",
    "    return training\n",
    "\n",
    "#gets k shortest distances from neighbours\n",
    "def closest(training, example,target, k):\n",
    "    return distances(training, example,target).sort_values(by=['Distance_to_ex'], kind='mergesort').take(np.arange(k))\n",
    "\n",
    "#returns average of top k value\n",
    "def average_outcome(k_at_top, target):\n",
    "    return np.mean(k_at_top[target])\n",
    "\n",
    "##returns average of y values in k instances\n",
    "def kNN_model(training, example,target, k):\n",
    "    return average_outcome(closest(training, example,target, k),target)\n",
    "\n",
    "# evaluates accuracy of prediction made using knn\n",
    "def evaluate_accuracy(training, test,target, k):\n",
    "    test_attributes = test.copy().drop(columns=[target])\n",
    "    prediction = np.array([])\n",
    "    \n",
    "    num_correct = 0\n",
    "    \n",
    "    for i in np.arange(len(test)):\n",
    "        c = kNN_model(training, test_attributes.iloc[i,:],target, k)\n",
    "        prediction = np.append(prediction, c)\n",
    "        training.drop(columns=['Distance_to_ex'], inplace=True) # remove the extra distance column after every prediction\n",
    "    \n",
    "    residual = test[target] - prediction\n",
    "    #insert into RMSE\n",
    "    return np.sqrt(np.mean(residual**2))"
   ]
  },
  {
   "cell_type": "code",
   "execution_count": 431,
   "metadata": {},
   "outputs": [
    {
     "data": {
      "text/html": [
       "<div>\n",
       "<style scoped>\n",
       "    .dataframe tbody tr th:only-of-type {\n",
       "        vertical-align: middle;\n",
       "    }\n",
       "\n",
       "    .dataframe tbody tr th {\n",
       "        vertical-align: top;\n",
       "    }\n",
       "\n",
       "    .dataframe thead th {\n",
       "        text-align: right;\n",
       "    }\n",
       "</style>\n",
       "<table border=\"1\" class=\"dataframe\">\n",
       "  <thead>\n",
       "    <tr style=\"text-align: right;\">\n",
       "      <th></th>\n",
       "      <th>X1-CIC0</th>\n",
       "      <th>X2-SM1_Dz(Z)</th>\n",
       "      <th>Y-LC50</th>\n",
       "    </tr>\n",
       "  </thead>\n",
       "  <tbody>\n",
       "    <tr>\n",
       "      <th>0</th>\n",
       "      <td>3.260</td>\n",
       "      <td>0.829</td>\n",
       "      <td>3.770</td>\n",
       "    </tr>\n",
       "    <tr>\n",
       "      <th>1</th>\n",
       "      <td>2.189</td>\n",
       "      <td>0.580</td>\n",
       "      <td>3.115</td>\n",
       "    </tr>\n",
       "    <tr>\n",
       "      <th>2</th>\n",
       "      <td>2.125</td>\n",
       "      <td>0.638</td>\n",
       "      <td>3.531</td>\n",
       "    </tr>\n",
       "    <tr>\n",
       "      <th>3</th>\n",
       "      <td>3.027</td>\n",
       "      <td>0.331</td>\n",
       "      <td>3.510</td>\n",
       "    </tr>\n",
       "    <tr>\n",
       "      <th>4</th>\n",
       "      <td>2.094</td>\n",
       "      <td>0.827</td>\n",
       "      <td>5.390</td>\n",
       "    </tr>\n",
       "    <tr>\n",
       "      <th>...</th>\n",
       "      <td>...</td>\n",
       "      <td>...</td>\n",
       "      <td>...</td>\n",
       "    </tr>\n",
       "    <tr>\n",
       "      <th>903</th>\n",
       "      <td>2.801</td>\n",
       "      <td>0.728</td>\n",
       "      <td>3.109</td>\n",
       "    </tr>\n",
       "    <tr>\n",
       "      <th>904</th>\n",
       "      <td>3.652</td>\n",
       "      <td>0.872</td>\n",
       "      <td>4.040</td>\n",
       "    </tr>\n",
       "    <tr>\n",
       "      <th>905</th>\n",
       "      <td>3.763</td>\n",
       "      <td>0.916</td>\n",
       "      <td>4.818</td>\n",
       "    </tr>\n",
       "    <tr>\n",
       "      <th>906</th>\n",
       "      <td>2.831</td>\n",
       "      <td>1.393</td>\n",
       "      <td>5.317</td>\n",
       "    </tr>\n",
       "    <tr>\n",
       "      <th>907</th>\n",
       "      <td>4.057</td>\n",
       "      <td>1.032</td>\n",
       "      <td>8.201</td>\n",
       "    </tr>\n",
       "  </tbody>\n",
       "</table>\n",
       "<p>905 rows × 3 columns</p>\n",
       "</div>"
      ],
      "text/plain": [
       "     X1-CIC0  X2-SM1_Dz(Z)  Y-LC50\n",
       "0      3.260         0.829   3.770\n",
       "1      2.189         0.580   3.115\n",
       "2      2.125         0.638   3.531\n",
       "3      3.027         0.331   3.510\n",
       "4      2.094         0.827   5.390\n",
       "..       ...           ...     ...\n",
       "903    2.801         0.728   3.109\n",
       "904    3.652         0.872   4.040\n",
       "905    3.763         0.916   4.818\n",
       "906    2.831         1.393   5.317\n",
       "907    4.057         1.032   8.201\n",
       "\n",
       "[905 rows x 3 columns]"
      ]
     },
     "execution_count": 431,
     "metadata": {},
     "output_type": "execute_result"
    }
   ],
   "source": [
    "x1_y = pd.DataFrame({'X1-CIC0':fish_toxicity['X1-CIC0'],\n",
    "                        'X2-SM1_Dz(Z)':fish_toxicity['X2-SM1_Dz(Z)'],\n",
    "                        'Y-LC50':fish_toxicity['Y-LC50']})\n",
    "x1_y"
   ]
  },
  {
   "cell_type": "markdown",
   "metadata": {},
   "source": [
    "## Tests"
   ]
  },
  {
   "cell_type": "code",
   "execution_count": 387,
   "metadata": {},
   "outputs": [
    {
     "data": {
      "text/plain": [
       "0.959376379974533"
      ]
     },
     "execution_count": 387,
     "metadata": {},
     "output_type": "execute_result"
    }
   ],
   "source": [
    "training_set = x1_y.copy()\n",
    "test_set = x1_y.copy()\n",
    "evaluate_accuracy(training_set, test_set,'Y-LC50', 5)"
   ]
  },
  {
   "cell_type": "code",
   "execution_count": 432,
   "metadata": {},
   "outputs": [
    {
     "data": {
      "text/plain": [
       "0.5937630784834682"
      ]
     },
     "execution_count": 432,
     "metadata": {},
     "output_type": "execute_result"
    }
   ],
   "source": [
    "training_set = x1_y.copy()\n",
    "test_set = x1_y.copy()\n",
    "evaluate_accuracy(training_set, test_set,'Y-LC50', 1)"
   ]
  },
  {
   "cell_type": "code",
   "execution_count": 433,
   "metadata": {},
   "outputs": [
    {
     "data": {
      "text/plain": [
       "0.8429885863896991"
      ]
     },
     "execution_count": 433,
     "metadata": {},
     "output_type": "execute_result"
    }
   ],
   "source": [
    "training_set = x1_y.copy()\n",
    "test_set = x1_y.copy()\n",
    "evaluate_accuracy(training_set, test_set,'Y-LC50', 3)"
   ]
  },
  {
   "cell_type": "code",
   "execution_count": 55,
   "metadata": {},
   "outputs": [
    {
     "data": {
      "text/plain": [
       "0.98796731052223"
      ]
     },
     "execution_count": 55,
     "metadata": {},
     "output_type": "execute_result"
    }
   ],
   "source": [
    "training_set = x1_y.copy()\n",
    "test_set = x1_y.copy()\n",
    "evaluate_accuracy(training_set, test_set,'Y-LC50', 6)                                                                                                                                                                                                                                                                                                                                                                                                                                                                                                                                                                                                                                                                                                                                                                                                      "
   ]
  },
  {
   "cell_type": "code",
   "execution_count": 56,
   "metadata": {},
   "outputs": [
    {
     "data": {
      "text/plain": [
       "1.0065676252229796"
      ]
     },
     "execution_count": 56,
     "metadata": {},
     "output_type": "execute_result"
    }
   ],
   "source": [
    "training_set = x1_y.copy()\n",
    "test_set = x1_y.copy()\n",
    "evaluate_accuracy(training_set, test_set,'Y-LC50', 7)   "
   ]
  },
  {
   "cell_type": "code",
   "execution_count": 377,
   "metadata": {},
   "outputs": [
    {
     "data": {
      "text/plain": [
       "0.9116759334685465"
      ]
     },
     "execution_count": 377,
     "metadata": {},
     "output_type": "execute_result"
    }
   ],
   "source": [
    "training_set = x1_y.copy()\n",
    "test_set = x1_y.copy()\n",
    "evaluate_accuracy(training_set, test_set,'Y-LC50', 4)"
   ]
  },
  {
   "cell_type": "code",
   "execution_count": 62,
   "metadata": {},
   "outputs": [
    {
     "data": {
      "text/plain": [
       "0.9895102985067051"
      ]
     },
     "execution_count": 62,
     "metadata": {},
     "output_type": "execute_result"
    }
   ],
   "source": [
    "x3_y = pd.DataFrame({'X1-CIC0':fish_toxicity['X1-CIC0'],\n",
    "                        'X3-GATS1i':fish_toxicity['X3-GATS1i'],\n",
    "                        'Y-LC50':fish_toxicity['Y-LC50']})\n",
    "\n",
    "training_set = x3_y.copy()\n",
    "test_set = x3_y.copy()\n",
    "evaluate_accuracy(training_set, test_set,'Y-LC50', 5)"
   ]
  },
  {
   "cell_type": "code",
   "execution_count": 86,
   "metadata": {},
   "outputs": [
    {
     "data": {
      "text/plain": [
       "1.0186576816757824"
      ]
     },
     "execution_count": 86,
     "metadata": {},
     "output_type": "execute_result"
    }
   ],
   "source": [
    "x3_y = pd.DataFrame({'X1-CIC0':fish_toxicity['X1-CIC0'],\n",
    "                        'X3-GATS1i':fish_toxicity['X3-GATS1i'],\n",
    "                        'Y-LC50':fish_toxicity['Y-LC50']})\n",
    "\n",
    "training_set = x3_y.copy()\n",
    "test_set = x3_y.copy()\n",
    "evaluate_accuracy(training_set, test_set,'Y-LC50', 6)"
   ]
  },
  {
   "cell_type": "code",
   "execution_count": 87,
   "metadata": {},
   "outputs": [
    {
     "data": {
      "text/plain": [
       "1.1714371076486274"
      ]
     },
     "execution_count": 87,
     "metadata": {},
     "output_type": "execute_result"
    }
   ],
   "source": [
    "x1_y = pd.DataFrame({'X1-CIC0':fish_toxicity['X1-CIC0'],\n",
    "                        'X4-NdsCH':fish_toxicity['X4-NdsCH'],\n",
    "                        'Y-LC50':fish_toxicity['Y-LC50']})\n",
    "training_set = x1_y.copy()\n",
    "test_set = x1_y.copy()\n",
    "evaluate_accuracy(training_set, test_set,'Y-LC50', 6) "
   ]
  },
  {
   "cell_type": "code",
   "execution_count": 88,
   "metadata": {},
   "outputs": [
    {
     "data": {
      "text/plain": [
       "1.1747836383612633"
      ]
     },
     "execution_count": 88,
     "metadata": {},
     "output_type": "execute_result"
    }
   ],
   "source": [
    "x1_y = pd.DataFrame({'X1-CIC0':fish_toxicity['X1-CIC0'],\n",
    "                        'X5-NdssC':fish_toxicity['X5-NdssC'],\n",
    "                        'Y-LC50':fish_toxicity['Y-LC50']})\n",
    "training_set = x1_y.copy()\n",
    "test_set = x1_y.copy()\n",
    "evaluate_accuracy(training_set, test_set,'Y-LC50', 6) "
   ]
  },
  {
   "cell_type": "code",
   "execution_count": 89,
   "metadata": {},
   "outputs": [
    {
     "data": {
      "text/plain": [
       "0.9510403522922418"
      ]
     },
     "execution_count": 89,
     "metadata": {},
     "output_type": "execute_result"
    }
   ],
   "source": [
    "x1_y = pd.DataFrame({'X1-CIC0':fish_toxicity['X1-CIC0'],\n",
    "                        'X6-MLOGP':fish_toxicity['X6-MLOGP'],\n",
    "                        'Y-LC50':fish_toxicity['Y-LC50']})\n",
    "training_set = x1_y.copy()\n",
    "test_set = x1_y.copy()\n",
    "evaluate_accuracy(training_set, test_set,'Y-LC50', 6)"
   ]
  },
  {
   "cell_type": "markdown",
   "metadata": {},
   "source": [
    "## Multiple regression - Least Squares"
   ]
  },
  {
   "cell_type": "code",
   "execution_count": 54,
   "metadata": {},
   "outputs": [],
   "source": [
    "#minimise tool from lab\n",
    "def minimize(f, start=None, smooth=False, log=None, array=False, **vargs):\n",
    "    if start is None:\n",
    "        assert not array, \"Please pass starting values explicitly when array=True\"\n",
    "        arg_count = f.__code__.co_argcount\n",
    "        assert arg_count > 0, \"Please pass starting values explicitly for variadic functions\"\n",
    "        start = [0] * arg_count\n",
    "    if not hasattr(start, '__len__'):\n",
    "        start = [start]\n",
    "\n",
    "    if array:\n",
    "        objective = f\n",
    "    else:\n",
    "        @functools.wraps(f)\n",
    "        def objective(args):\n",
    "            return f(*args)\n",
    "\n",
    "    if not smooth and 'method' not in vargs:\n",
    "        vargs['method'] = 'Powell'\n",
    "    result = optimize.minimize(objective, start, **vargs)\n",
    "    if log is not None:\n",
    "        log(result)\n",
    "    if len(start) == 1:\n",
    "        return result.x.item(0)\n",
    "    else:\n",
    "        return result.x\n",
    "    "
   ]
  },
  {
   "cell_type": "code",
   "execution_count": 435,
   "metadata": {},
   "outputs": [],
   "source": [
    "def multiple_regression_rmse_ft(a, b, c):\n",
    "    x1 = fish_toxicity['X1-CIC0']\n",
    "    x2 = fish_toxicity['X2-SM1_Dz(Z)']\n",
    "    y = fish_toxicity['Y-LC50']\n",
    "    prediction = (a * x1) + (b * x2) + c\n",
    "    mse = np.mean((y - prediction) ** 2)\n",
    "    return np.mean((y - prediction) ** 2)"
   ]
  },
  {
   "cell_type": "code",
   "execution_count": 436,
   "metadata": {},
   "outputs": [
    {
     "data": {
      "text/plain": [
       "array([0.82116075, 1.72828314, 0.59383408])"
      ]
     },
     "execution_count": 436,
     "metadata": {},
     "output_type": "execute_result"
    }
   ],
   "source": [
    "best = minimize(multiple_regression_rmse_ft)\n",
    "best"
   ]
  },
  {
   "cell_type": "code",
   "execution_count": 437,
   "metadata": {},
   "outputs": [
    {
     "data": {
      "text/plain": [
       "1.4098292083894972"
      ]
     },
     "execution_count": 437,
     "metadata": {},
     "output_type": "execute_result"
    }
   ],
   "source": [
    "multiple_regression_rmse_ft(best.item(0), best.item(1), best.item(2))"
   ]
  },
  {
   "cell_type": "code",
   "execution_count": 438,
   "metadata": {},
   "outputs": [
    {
     "data": {
      "text/plain": [
       "1.2275568884029713"
      ]
     },
     "execution_count": 438,
     "metadata": {},
     "output_type": "execute_result"
    }
   ],
   "source": [
    "def multiple_regression_rmse(a, b, c):\n",
    "    x1 = fish_toxicity['X1-CIC0']\n",
    "    x2 = fish_toxicity['X3-GATS1i']\n",
    "    y = fish_toxicity['Y-LC50']\n",
    "    prediction = (a * x1) + (b * x2) + c\n",
    "    mse = np.mean((y - prediction) ** 2)\n",
    "    return np.sqrt(mse)\n",
    "\n",
    "best = minimize(multiple_regression_rmse)\n",
    "multiple_regression_rmse(best.item(0), best.item(1), best.item(2))"
   ]
  },
  {
   "cell_type": "code",
   "execution_count": 439,
   "metadata": {},
   "outputs": [
    {
     "data": {
      "text/plain": [
       "1.374285043459024"
      ]
     },
     "execution_count": 439,
     "metadata": {},
     "output_type": "execute_result"
    }
   ],
   "source": [
    "def multiple_regression_rmse(a, b, c):\n",
    "    x1 = fish_toxicity['X1-CIC0']\n",
    "    x2 = fish_toxicity['X4-NdsCH']\n",
    "    y = fish_toxicity['Y-LC50']\n",
    "    prediction = (a * x1) + (b * x2) + c\n",
    "    mse = np.mean((y - prediction) ** 2)\n",
    "    return np.sqrt(mse)\n",
    "\n",
    "best = minimize(multiple_regression_rmse)\n",
    "multiple_regression_rmse(best.item(0), best.item(1), best.item(2))"
   ]
  },
  {
   "cell_type": "code",
   "execution_count": 440,
   "metadata": {},
   "outputs": [
    {
     "data": {
      "text/plain": [
       "1.380772542529152"
      ]
     },
     "execution_count": 440,
     "metadata": {},
     "output_type": "execute_result"
    }
   ],
   "source": [
    "def multiple_regression_rmse(a, b, c):\n",
    "    x1 = fish_toxicity['X1-CIC0']\n",
    "    x2 = fish_toxicity['X5-NdssC']\n",
    "    y = fish_toxicity['Y-LC50']\n",
    "    prediction = (a * x1) + (b * x2) + c\n",
    "    mse = np.mean((y - prediction) ** 2)\n",
    "    return np.sqrt(mse)\n",
    "\n",
    "best = minimize(multiple_regression_rmse)\n",
    "multiple_regression_rmse(best.item(0), best.item(1), best.item(2))"
   ]
  },
  {
   "cell_type": "code",
   "execution_count": 441,
   "metadata": {},
   "outputs": [
    {
     "data": {
      "text/plain": [
       "1.0987103181305875"
      ]
     },
     "execution_count": 441,
     "metadata": {},
     "output_type": "execute_result"
    }
   ],
   "source": [
    "def multiple_regression_rmse(a, b, c):\n",
    "    x1 = fish_toxicity['X1-CIC0']\n",
    "    x2 = fish_toxicity['X6-MLOGP']\n",
    "    y = fish_toxicity['Y-LC50']\n",
    "    prediction = (a * x1) + (b * x2) + c\n",
    "    mse = np.mean((y - prediction) ** 2)\n",
    "    return np.sqrt(mse)\n",
    "\n",
    "best = minimize(multiple_regression_rmse)\n",
    "multiple_regression_rmse(best.item(0), best.item(1), best.item(2))"
   ]
  },
  {
   "cell_type": "code",
   "execution_count": 442,
   "metadata": {},
   "outputs": [],
   "source": [
    "def fish_toxicity_rmse(a, b, c):\n",
    "    x = fish_toxicity['X1-CIC0']\n",
    "    y = fish_toxicity['Y-LC50']\n",
    "    quadratic_prediction = a * x**2 + b * x + c\n",
    "    quadratic_mse = np.mean((y - quadratic_prediction) ** 2)\n",
    "    return np.sqrt(quadratic_mse)\n",
    "\n",
    "def quadratic_prediction(x,y):\n",
    "    result = minimize(fish_toxicity_rmse)\n",
    "    a = result.item(0)\n",
    "    b = result.item(1)\n",
    "    c = result.item(2)\n",
    "    x = fish_toxicity[x]\n",
    "    return a * x**2 + b*x + c\n"
   ]
  },
  {
   "cell_type": "code",
   "execution_count": 63,
   "metadata": {},
   "outputs": [
    {
     "data": {
      "text/html": [
       "<div>\n",
       "<style scoped>\n",
       "    .dataframe tbody tr th:only-of-type {\n",
       "        vertical-align: middle;\n",
       "    }\n",
       "\n",
       "    .dataframe tbody tr th {\n",
       "        vertical-align: top;\n",
       "    }\n",
       "\n",
       "    .dataframe thead th {\n",
       "        text-align: right;\n",
       "    }\n",
       "</style>\n",
       "<table border=\"1\" class=\"dataframe\">\n",
       "  <thead>\n",
       "    <tr style=\"text-align: right;\">\n",
       "      <th></th>\n",
       "      <th>X1-CIC0</th>\n",
       "      <th>X2-SM1_Dz(Z)</th>\n",
       "      <th>X3-GATS1i</th>\n",
       "      <th>X4-NdsCH</th>\n",
       "      <th>X5-NdssC</th>\n",
       "      <th>X6-MLOGP</th>\n",
       "      <th>Y-LC50</th>\n",
       "      <th>Y-LC50 - Least Squares X1-CIC0</th>\n",
       "      <th>Y-LC50 - Nearest Neighbour X1-CIC0</th>\n",
       "    </tr>\n",
       "  </thead>\n",
       "  <tbody>\n",
       "    <tr>\n",
       "      <th>0</th>\n",
       "      <td>3.260</td>\n",
       "      <td>0.829</td>\n",
       "      <td>1.676</td>\n",
       "      <td>0</td>\n",
       "      <td>1</td>\n",
       "      <td>1.453</td>\n",
       "      <td>3.770</td>\n",
       "      <td>4.267769</td>\n",
       "      <td>4.057012</td>\n",
       "    </tr>\n",
       "    <tr>\n",
       "      <th>1</th>\n",
       "      <td>2.189</td>\n",
       "      <td>0.580</td>\n",
       "      <td>0.863</td>\n",
       "      <td>0</td>\n",
       "      <td>0</td>\n",
       "      <td>1.348</td>\n",
       "      <td>3.115</td>\n",
       "      <td>3.665966</td>\n",
       "      <td>3.873263</td>\n",
       "    </tr>\n",
       "    <tr>\n",
       "      <th>2</th>\n",
       "      <td>2.125</td>\n",
       "      <td>0.638</td>\n",
       "      <td>0.831</td>\n",
       "      <td>0</td>\n",
       "      <td>0</td>\n",
       "      <td>1.348</td>\n",
       "      <td>3.531</td>\n",
       "      <td>3.630004</td>\n",
       "      <td>3.941392</td>\n",
       "    </tr>\n",
       "    <tr>\n",
       "      <th>3</th>\n",
       "      <td>3.027</td>\n",
       "      <td>0.331</td>\n",
       "      <td>1.472</td>\n",
       "      <td>1</td>\n",
       "      <td>0</td>\n",
       "      <td>1.807</td>\n",
       "      <td>3.510</td>\n",
       "      <td>4.136844</td>\n",
       "      <td>3.884946</td>\n",
       "    </tr>\n",
       "    <tr>\n",
       "      <th>4</th>\n",
       "      <td>2.094</td>\n",
       "      <td>0.827</td>\n",
       "      <td>0.860</td>\n",
       "      <td>0</td>\n",
       "      <td>0</td>\n",
       "      <td>1.886</td>\n",
       "      <td>5.390</td>\n",
       "      <td>3.612585</td>\n",
       "      <td>3.962767</td>\n",
       "    </tr>\n",
       "    <tr>\n",
       "      <th>...</th>\n",
       "      <td>...</td>\n",
       "      <td>...</td>\n",
       "      <td>...</td>\n",
       "      <td>...</td>\n",
       "      <td>...</td>\n",
       "      <td>...</td>\n",
       "      <td>...</td>\n",
       "      <td>...</td>\n",
       "      <td>...</td>\n",
       "    </tr>\n",
       "    <tr>\n",
       "      <th>903</th>\n",
       "      <td>2.801</td>\n",
       "      <td>0.728</td>\n",
       "      <td>2.226</td>\n",
       "      <td>0</td>\n",
       "      <td>2</td>\n",
       "      <td>0.736</td>\n",
       "      <td>3.109</td>\n",
       "      <td>4.009853</td>\n",
       "      <td>3.663522</td>\n",
       "    </tr>\n",
       "    <tr>\n",
       "      <th>904</th>\n",
       "      <td>3.652</td>\n",
       "      <td>0.872</td>\n",
       "      <td>0.867</td>\n",
       "      <td>2</td>\n",
       "      <td>3</td>\n",
       "      <td>3.983</td>\n",
       "      <td>4.040</td>\n",
       "      <td>4.488037</td>\n",
       "      <td>4.435573</td>\n",
       "    </tr>\n",
       "    <tr>\n",
       "      <th>905</th>\n",
       "      <td>3.763</td>\n",
       "      <td>0.916</td>\n",
       "      <td>0.878</td>\n",
       "      <td>0</td>\n",
       "      <td>6</td>\n",
       "      <td>2.918</td>\n",
       "      <td>4.818</td>\n",
       "      <td>4.550408</td>\n",
       "      <td>4.507947</td>\n",
       "    </tr>\n",
       "    <tr>\n",
       "      <th>906</th>\n",
       "      <td>2.831</td>\n",
       "      <td>1.393</td>\n",
       "      <td>1.077</td>\n",
       "      <td>0</td>\n",
       "      <td>1</td>\n",
       "      <td>0.906</td>\n",
       "      <td>5.317</td>\n",
       "      <td>4.026710</td>\n",
       "      <td>3.706634</td>\n",
       "    </tr>\n",
       "    <tr>\n",
       "      <th>907</th>\n",
       "      <td>4.057</td>\n",
       "      <td>1.032</td>\n",
       "      <td>1.183</td>\n",
       "      <td>1</td>\n",
       "      <td>3</td>\n",
       "      <td>4.754</td>\n",
       "      <td>8.201</td>\n",
       "      <td>4.715609</td>\n",
       "      <td>5.129063</td>\n",
       "    </tr>\n",
       "  </tbody>\n",
       "</table>\n",
       "<p>908 rows × 9 columns</p>\n",
       "</div>"
      ],
      "text/plain": [
       "     X1-CIC0  X2-SM1_Dz(Z)  X3-GATS1i  X4-NdsCH  X5-NdssC  X6-MLOGP  Y-LC50  \\\n",
       "0      3.260         0.829      1.676         0         1     1.453   3.770   \n",
       "1      2.189         0.580      0.863         0         0     1.348   3.115   \n",
       "2      2.125         0.638      0.831         0         0     1.348   3.531   \n",
       "3      3.027         0.331      1.472         1         0     1.807   3.510   \n",
       "4      2.094         0.827      0.860         0         0     1.886   5.390   \n",
       "..       ...           ...        ...       ...       ...       ...     ...   \n",
       "903    2.801         0.728      2.226         0         2     0.736   3.109   \n",
       "904    3.652         0.872      0.867         2         3     3.983   4.040   \n",
       "905    3.763         0.916      0.878         0         6     2.918   4.818   \n",
       "906    2.831         1.393      1.077         0         1     0.906   5.317   \n",
       "907    4.057         1.032      1.183         1         3     4.754   8.201   \n",
       "\n",
       "     Y-LC50 - Least Squares X1-CIC0  Y-LC50 - Nearest Neighbour X1-CIC0  \n",
       "0                          4.267769                            4.057012  \n",
       "1                          3.665966                            3.873263  \n",
       "2                          3.630004                            3.941392  \n",
       "3                          4.136844                            3.884946  \n",
       "4                          3.612585                            3.962767  \n",
       "..                              ...                                 ...  \n",
       "903                        4.009853                            3.663522  \n",
       "904                        4.488037                            4.435573  \n",
       "905                        4.550408                            4.507947  \n",
       "906                        4.026710                            3.706634  \n",
       "907                        4.715609                            5.129063  \n",
       "\n",
       "[908 rows x 9 columns]"
      ]
     },
     "execution_count": 63,
     "metadata": {},
     "output_type": "execute_result"
    }
   ],
   "source": [
    "quadratic_prediction('X1-CIC0','Quadratic Y-LC50 prediction')\n",
    "fish_toxicity"
   ]
  },
  {
   "cell_type": "markdown",
   "metadata": {
    "scrolled": true
   },
   "source": [
    "# Part 1e: Bootstrapping and Confidence Intervals"
   ]
  },
  {
   "cell_type": "code",
   "execution_count": 64,
   "metadata": {},
   "outputs": [
    {
     "name": "stdout",
     "output_type": "stream",
     "text": [
      "Predicted y from bootstramp sample was 171.0082234554629\n"
     ]
    },
    {
     "data": {
      "text/plain": [
       "[<matplotlib.lines.Line2D at 0x7fdccca368b0>]"
      ]
     },
     "execution_count": 64,
     "metadata": {},
     "output_type": "execute_result"
    },
    {
     "data": {
      "image/png": "[encoded data removed]",
      "text/plain": [
       "<Figure size 432x288 with 1 Axes>"
      ]
     },
     "metadata": {},
     "output_type": "display_data"
    }
   ],
   "source": [
    "def prediction_at(t, x, y, x_value):\n",
    "    return slope(t, x, y) * x_value + intercept(t, x, y)\n",
    "\n",
    "# plots graph using resampled data for the least squared algorithm\n",
    "resample = fish_toxicity.sample(len(fish_toxicity), replace=True)\n",
    "predicted_y = prediction_at(resample, 'X1-CIC0', 'Y-LC50 - Least Squares X1-CIC0', 300)\n",
    "print('Predicted y from bootstramp sample was', predicted_y)\n",
    "\n",
    "slope_births = slope(resample,'X1-CIC0','Y-LC50 - Least Squares X1-CIC0')\n",
    "intercept_births = intercept(resample,'X1-CIC0','Y-LC50 - Least Squares X1-CIC0')\n",
    "yfit = slope_births * resample['X1-CIC0'] + intercept_births\n",
    "\n",
    "resample.plot.scatter('X1-CIC0','Y-LC50 - Least Squares X1-CIC0')\n",
    "plt.plot(resample['X1-CIC0'], yfit, lw=1, color='red')"
   ]
  },
  {
   "cell_type": "code",
   "execution_count": 74,
   "metadata": {},
   "outputs": [],
   "source": [
    "def bootstrap_prediction(t, x, y, new_x, repetitions=1000):\n",
    "\n",
    "    # collect preditions for resampling\n",
    "    predictions = np.array([])\n",
    "    \n",
    "    for i in np.arange(repetitions):\n",
    "        resample = t.sample(len(t), replace=True)\n",
    "        predicted_y = prediction_at(resample, x, y, new_x)\n",
    "        predictions = np.append(predictions, predicted_y)\n",
    "\n",
    "    # Find the ends of the approximate 96% prediction interval\n",
    "    left = np.percentile(predictions, 2)\n",
    "    right = np.percentile(predictions, 98)\n",
    "\n",
    "    # Display for least squares\n",
    "    pd.DataFrame({'Least Squares Predictions at 2':predictions}).hist(bins=20, ec='black')\n",
    "    \n",
    "    plt.xlabel('predictions at x='+str(new_x))\n",
    "    plt.plot([left, right], [0, 0], color='yellow', lw=8);\n",
    "    print('Approximate 96%-confidence interval for height of true line:')\n",
    "    print(left, right, '(width =', right - left, ')')"
   ]
  },
  {
   "cell_type": "code",
   "execution_count": 73,
   "metadata": {},
   "outputs": [
    {
     "name": "stdout",
     "output_type": "stream",
     "text": [
      "Approximate 95%-confidence interval for height of true line:\n",
      "4.035051616991855 4.220035264925906 (width = 0.1849836479340512 )\n"
     ]
    },
    {
     "data": {
      "image/png": "[encoded data removed]",
      "text/plain": [
       "<Figure size 432x288 with 1 Axes>"
      ]
     },
     "metadata": {},
     "output_type": "display_data"
    }
   ],
   "source": [
    "bootstrap_prediction(fish_toxicity, 'X1-CIC0', 'Y-LC50', 3)"
   ]
  },
  {
   "cell_type": "code",
   "execution_count": 75,
   "metadata": {},
   "outputs": [
    {
     "name": "stdout",
     "output_type": "stream",
     "text": [
      "Approximate 96%-confidence interval for height of true line:\n",
      "3.41217917846787 3.710628273477229 (width = 0.29844909500935923 )\n"
     ]
    },
    {
     "data": {
      "image/png": "[encoded data removed]",
      "text/plain": [
       "<Figure size 432x288 with 1 Axes>"
      ]
     },
     "metadata": {},
     "output_type": "display_data"
    }
   ],
   "source": [
    "bootstrap_prediction(fish_toxicity, 'X1-CIC0', 'Y-LC50', 2)"
   ]
  },
  {
   "cell_type": "code",
   "execution_count": 78,
   "metadata": {},
   "outputs": [],
   "source": [
    "# Understand and compare this function with the previous mse_both function, then run this cell\n",
    "def mse_both_generic(a, b, c, t, x1, x2, y):\n",
    "    predicted_y = (a * t[x1]) + (b * t[x2]) + c\n",
    "    errors = t[y] - predicted_y\n",
    "    return np.mean(errors**2)\n",
    "\n",
    "def prediction_at_both(t, x1, x2, y, x1_value, x2_value):\n",
    "    #lambda allows method to be called without all required arguments\n",
    "    coef = minimize(lambda par1, par2, par3: mse_both_generic(par1, par2, par3, t, x1, x2, y))\n",
    "    return (coef.item(0) * x1_value) + (coef.item(1) * x2_value) + coef.item(2)"
   ]
  },
  {
   "cell_type": "code",
   "execution_count": 378,
   "metadata": {},
   "outputs": [],
   "source": [
    "def bootstrap_prediction_both(t, x1, x2, y, new_x1, new_x2, repetitions=1000):\n",
    "\n",
    "    predictions = np.array([])\n",
    "    \n",
    "    for i in np.arange(repetitions):\n",
    "        #bootstrap sample\n",
    "        resample = t.sample(len(t), replace=True)\n",
    "        #makes prediction using multiple regresion method\n",
    "        predicted_y = prediction_at_both(resample, x1, x2, y, new_x1, new_x2)\n",
    "        predictions = np.append(predictions, predicted_y)\n",
    "\n",
    "    # Find the ends of the approximate 96% prediction interval\n",
    "    left = np.percentile(predictions, 2)\n",
    "    right = np.percentile(predictions, 98)\n",
    "\n",
    "    #Creates histogram using predictions\n",
    "    pd.DataFrame({'Multiple regression Prediction at 3':predictions}).hist(bins=20, ec='black')\n",
    "    \n",
    "    plt.xlabel('predictions at X1-CIC0='+str(new_x1) + ', X2-SM1_Dz(Z)=' +str(new_x2))\n",
    "    plt.plot([left, right], [0, 0], color='red', lw=8);\n",
    "    print('Approximate 95%-confidence interval for height of true line:')\n",
    "    print(left, right, '(width =', right - left, ')')\n",
    "\n"
   ]
  },
  {
   "cell_type": "code",
   "execution_count": 379,
   "metadata": {},
   "outputs": [
    {
     "name": "stdout",
     "output_type": "stream",
     "text": [
      "Approximate 95%-confidence interval for height of true line:\n",
      "9.190236220220967 10.668287498253116 (width = 1.478051278032149 )\n"
     ]
    },
    {
     "data": {
      "image/png": "[encoded data removed]",
      "text/plain": [
       "<Figure size 432x288 with 1 Axes>"
      ]
     },
     "metadata": {},
     "output_type": "display_data"
    }
   ],
   "source": [
    "bootstrap_prediction_both(fish_toxicity, 'X1-CIC0', 'X2-SM1_Dz(Z)', 'Y-LC50', 5, 3)"
   ]
  },
  {
   "cell_type": "code",
   "execution_count": null,
   "metadata": {},
   "outputs": [],
   "source": []
  }
 ],
 "metadata": {
  "kernelspec": {
   "display_name": "Python 3",
   "language": "python",
   "name": "python3"
  },
  "language_info": {
   "codemirror_mode": {
    "name": "ipython",
    "version": 3
   },
   "file_extension": ".py",
   "mimetype": "text/x-python",
   "name": "python",
   "nbconvert_exporter": "python",
   "pygments_lexer": "ipython3",
   "version": "3.8.5"
  }
 },
 "nbformat": 4,
 "nbformat_minor": 4
}
